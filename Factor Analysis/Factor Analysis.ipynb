{
 "cells": [
  {
   "cell_type": "markdown",
   "metadata": {},
   "source": [
    "# Factor Analysis\n",
    "\n",
    "\n",
    "### Factor Analysis (FA) is an exploratory data analysis method used to search influential underlying factors or latent variables from a set of observed variables. \n",
    "\n",
    "### It helps in data interpretations by reducing the number of variables. It extracts maximum common variance from all variables and puts them into a common score.\n",
    "\n",
    "### Factor analysis is widely utilized in market research, advertising, psychology, finance, and operation research. \n",
    "\n",
    "### Market researchers use factor analysis to identify price-sensitive customers, identify brand features that influence consumer choice, and helps in understanding channel selection criteria for the distribution channel.\n",
    "\n",
    "### We'll cover following:\n",
    "\n",
    "* Factor Analysis\n",
    "* Types of Factor Analysis\n",
    "* Determine Number of Factors\n",
    "* Adequacy Test\n",
    "* Interpreting the results"
   ]
  },
  {
   "cell_type": "markdown",
   "metadata": {},
   "source": [
    "# Factor Analysis\n",
    "\n",
    "#### Factor analysis is a linear statistical model. It is used to explain the variance among the observed variable and condense a set of the observed variable into the unobserved variable called ___factors___. \n",
    "\n",
    "Observed variables are modeled as a linear combination of factors and error terms (Source). Factor or latent variable is associated with multiple observed variables, who have common patterns of responses. Each factor explains a particular amount of variance in the observed variables. It helps in data interpretations by reducing the number of variables.\n",
    "\n",
    "<img src='fa.JPG'>\n",
    "\n",
    "Factor analysis is a method for investigating whether a number of variables of interest X1, X2,……., Xl, are linearly related to a smaller number of unobservable factors F1, F2,..……, Fk.\n",
    "\n",
    "<img src='fa2.JPG'>\n",
    "\n",
    "## Assumptions\n",
    "1. There are no outliers in data.\n",
    "2. Sample size should be greater than the factor.\n",
    "3. There should not be perfect multicollinearity.\n",
    "4. There should not be homoscedasticity between the variables.\n",
    "\n",
    "\n",
    "## Types of Factor Analysis\n",
    "* Exploratory Factor Analysis: \n",
    "        It is the most popular factor analysis approach among social and management researchers. \n",
    "        Its basic assumption is that any observed variable is directly associated with any factor.\n",
    "* Confirmatory Factor Analysis (CFA): \n",
    "        Its basic assumption is that each factor is associated with a particular set of observed variables.\n",
    "        CFA confirms what is expected on the basic.\n",
    "        \n",
    "# How does factor analysis work?\n",
    "\n",
    "#### The primary objective of factor analysis is to reduce the number of observed variables and find unobservable variables. \n",
    "\n",
    "#### These unobserved variables help the market researcher to conclude the survey. \n",
    "\n",
    "#### This conversion of the observed variables to unobserved variables can be achieved in two steps:\n",
    "\n",
    "* ___Factor Extraction___: \n",
    "\n",
    "___In this step, the number of factors and approach for extraction is selected using variance partitioning methods such as principal components analysis and common factor analysis.___\n",
    "\n",
    "* ___Factor Rotation___: \n",
    "\n",
    "___In this step, rotation tries to convert factors into uncorrelated factors — the main goal of this step to improve the overall interpretability. There are lots of rotation methods that are available such as: Varimax rotation method, Quartimax rotation method, and Promax rotation method.___"
   ]
  },
  {
   "cell_type": "markdown",
   "metadata": {},
   "source": [
    "# Factor Analysis in python using factor_analyzer package"
   ]
  },
  {
   "cell_type": "markdown",
   "metadata": {},
   "source": [
    "# Adequacy Test\n",
    "\n",
    "#### Before you perform factor analysis, you need to evaluate the “factorability” of our dataset. \n",
    "\n",
    "#### Factorability means \"can we find the factors in the dataset?\". \n",
    "\n",
    "##### There are two methods to check the factorability or sampling adequacy:\n",
    "\n",
    "* Bartlett’s Test\n",
    "* Kaiser-Meyer-Olkin Test\n",
    "\n",
    "# Bartlett’s test of sphericity \n",
    "* This test checks whether or not the observed variables intercorrelate at all using the observed correlation matrix against the identity matrix. \n",
    "* If the test found statistically insignificant, you should not employ a factor analysis."
   ]
  },
  {
   "cell_type": "markdown",
   "metadata": {},
   "source": [
    "#### In this Bartlett ’s test, the p-value is 0. The test was statistically significant, indicating that the observed correlation matrix is not an identity matrix."
   ]
  },
  {
   "cell_type": "markdown",
   "metadata": {},
   "source": [
    "# Kaiser-Meyer-Olkin (KMO) Test \n",
    "\n",
    "* This test measures the suitability of data for factor analysis. \n",
    "* It determines the adequacy for each observed variable and for the complete model. \n",
    "* KMO estimates the proportion of variance among all the observed variable. \n",
    "* Lower proportion id more suitable for factor analysis. KMO values range between 0 and 1. \n",
    "* Value of KMO less than 0.6 is considered inadequate."
   ]
  },
  {
   "cell_type": "markdown",
   "metadata": {},
   "source": [
    "#### The overall KMO for our data is 0.84, which is excellent. This value indicates that you can proceed with your planned factor analysis."
   ]
  },
  {
   "cell_type": "markdown",
   "metadata": {},
   "source": [
    "## Choosing the Number of Factors\n",
    "\n",
    "For choosing the number of factors, you can use the Kaiser criterion and scree plot. Both are based on eigenvalues.\n",
    "\n",
    "### Scree Plot:\n",
    "#### In multivariate statistics, a scree plot is a line plot of the eigenvalues of factors or principal components in an analysis. The scree plot is used to determine the number of factors to retain in an exploratory factor analysis (FA) or principal components to keep in a principal component analysis (PCA).\n",
    "\n",
    "<img src='scree.JPG'>"
   ]
  }
 ],
 "metadata": {
  "kernelspec": {
   "display_name": "Python 3",
   "language": "python",
   "name": "python3"
  },
  "language_info": {
   "codemirror_mode": {
    "name": "ipython",
    "version": 3
   },
   "file_extension": ".py",
   "mimetype": "text/x-python",
   "name": "python",
   "nbconvert_exporter": "python",
   "pygments_lexer": "ipython3",
   "version": "3.7.4"
  }
 },
 "nbformat": 4,
 "nbformat_minor": 2
}
