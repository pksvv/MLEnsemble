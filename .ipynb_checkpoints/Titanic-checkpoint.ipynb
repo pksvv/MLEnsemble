{
 "cells": [
  {
   "cell_type": "markdown",
   "metadata": {},
   "source": [
    "#### Importing Libraries"
   ]
  },
  {
   "cell_type": "code",
   "execution_count": 100,
   "metadata": {},
   "outputs": [],
   "source": [
    "import pandas as pd\n",
    "import numpy as np\n",
    "import matplotlib.pyplot as plt\n",
    "import seaborn as sns\n",
    "\n",
    "sns.set()\n",
    "%matplotlib inline\n",
    "\n",
    "from collections import Counter\n",
    "\n",
    "from sklearn.ensemble import RandomForestClassifier,AdaBoostClassifier\n",
    "from sklearn.ensemble import GradientBoostingClassifier,ExtraTreesClassifier,VotingClassifier\n",
    "from sklearn.tree import DecisionTreeClassifier\n",
    "import xgboost as xgb\n",
    "\n",
    "import warnings\n",
    "warnings.filterwarnings('ignore')"
   ]
  },
  {
   "cell_type": "markdown",
   "metadata": {},
   "source": [
    "#### Import Data"
   ]
  },
  {
   "cell_type": "code",
   "execution_count": 101,
   "metadata": {},
   "outputs": [],
   "source": [
    "train = pd.read_csv('dataset/titanic/train.csv')\n",
    "test = pd.read_csv('dataset/titanic/test.csv')"
   ]
  },
  {
   "cell_type": "code",
   "execution_count": 102,
   "metadata": {},
   "outputs": [
    {
     "data": {
      "text/html": [
       "<div>\n",
       "<style scoped>\n",
       "    .dataframe tbody tr th:only-of-type {\n",
       "        vertical-align: middle;\n",
       "    }\n",
       "\n",
       "    .dataframe tbody tr th {\n",
       "        vertical-align: top;\n",
       "    }\n",
       "\n",
       "    .dataframe thead th {\n",
       "        text-align: right;\n",
       "    }\n",
       "</style>\n",
       "<table border=\"1\" class=\"dataframe\">\n",
       "  <thead>\n",
       "    <tr style=\"text-align: right;\">\n",
       "      <th></th>\n",
       "      <th>PassengerId</th>\n",
       "      <th>Survived</th>\n",
       "      <th>Pclass</th>\n",
       "      <th>Name</th>\n",
       "      <th>Sex</th>\n",
       "      <th>Age</th>\n",
       "      <th>SibSp</th>\n",
       "      <th>Parch</th>\n",
       "      <th>Ticket</th>\n",
       "      <th>Fare</th>\n",
       "      <th>Cabin</th>\n",
       "      <th>Embarked</th>\n",
       "    </tr>\n",
       "  </thead>\n",
       "  <tbody>\n",
       "    <tr>\n",
       "      <th>0</th>\n",
       "      <td>1</td>\n",
       "      <td>0</td>\n",
       "      <td>3</td>\n",
       "      <td>Braund, Mr. Owen Harris</td>\n",
       "      <td>male</td>\n",
       "      <td>22.0</td>\n",
       "      <td>1</td>\n",
       "      <td>0</td>\n",
       "      <td>A/5 21171</td>\n",
       "      <td>7.2500</td>\n",
       "      <td>NaN</td>\n",
       "      <td>S</td>\n",
       "    </tr>\n",
       "    <tr>\n",
       "      <th>1</th>\n",
       "      <td>2</td>\n",
       "      <td>1</td>\n",
       "      <td>1</td>\n",
       "      <td>Cumings, Mrs. John Bradley (Florence Briggs Th...</td>\n",
       "      <td>female</td>\n",
       "      <td>38.0</td>\n",
       "      <td>1</td>\n",
       "      <td>0</td>\n",
       "      <td>PC 17599</td>\n",
       "      <td>71.2833</td>\n",
       "      <td>C85</td>\n",
       "      <td>C</td>\n",
       "    </tr>\n",
       "    <tr>\n",
       "      <th>2</th>\n",
       "      <td>3</td>\n",
       "      <td>1</td>\n",
       "      <td>3</td>\n",
       "      <td>Heikkinen, Miss. Laina</td>\n",
       "      <td>female</td>\n",
       "      <td>26.0</td>\n",
       "      <td>0</td>\n",
       "      <td>0</td>\n",
       "      <td>STON/O2. 3101282</td>\n",
       "      <td>7.9250</td>\n",
       "      <td>NaN</td>\n",
       "      <td>S</td>\n",
       "    </tr>\n",
       "    <tr>\n",
       "      <th>3</th>\n",
       "      <td>4</td>\n",
       "      <td>1</td>\n",
       "      <td>1</td>\n",
       "      <td>Futrelle, Mrs. Jacques Heath (Lily May Peel)</td>\n",
       "      <td>female</td>\n",
       "      <td>35.0</td>\n",
       "      <td>1</td>\n",
       "      <td>0</td>\n",
       "      <td>113803</td>\n",
       "      <td>53.1000</td>\n",
       "      <td>C123</td>\n",
       "      <td>S</td>\n",
       "    </tr>\n",
       "    <tr>\n",
       "      <th>4</th>\n",
       "      <td>5</td>\n",
       "      <td>0</td>\n",
       "      <td>3</td>\n",
       "      <td>Allen, Mr. William Henry</td>\n",
       "      <td>male</td>\n",
       "      <td>35.0</td>\n",
       "      <td>0</td>\n",
       "      <td>0</td>\n",
       "      <td>373450</td>\n",
       "      <td>8.0500</td>\n",
       "      <td>NaN</td>\n",
       "      <td>S</td>\n",
       "    </tr>\n",
       "    <tr>\n",
       "      <th>5</th>\n",
       "      <td>6</td>\n",
       "      <td>0</td>\n",
       "      <td>3</td>\n",
       "      <td>Moran, Mr. James</td>\n",
       "      <td>male</td>\n",
       "      <td>NaN</td>\n",
       "      <td>0</td>\n",
       "      <td>0</td>\n",
       "      <td>330877</td>\n",
       "      <td>8.4583</td>\n",
       "      <td>NaN</td>\n",
       "      <td>Q</td>\n",
       "    </tr>\n",
       "    <tr>\n",
       "      <th>6</th>\n",
       "      <td>7</td>\n",
       "      <td>0</td>\n",
       "      <td>1</td>\n",
       "      <td>McCarthy, Mr. Timothy J</td>\n",
       "      <td>male</td>\n",
       "      <td>54.0</td>\n",
       "      <td>0</td>\n",
       "      <td>0</td>\n",
       "      <td>17463</td>\n",
       "      <td>51.8625</td>\n",
       "      <td>E46</td>\n",
       "      <td>S</td>\n",
       "    </tr>\n",
       "    <tr>\n",
       "      <th>7</th>\n",
       "      <td>8</td>\n",
       "      <td>0</td>\n",
       "      <td>3</td>\n",
       "      <td>Palsson, Master. Gosta Leonard</td>\n",
       "      <td>male</td>\n",
       "      <td>2.0</td>\n",
       "      <td>3</td>\n",
       "      <td>1</td>\n",
       "      <td>349909</td>\n",
       "      <td>21.0750</td>\n",
       "      <td>NaN</td>\n",
       "      <td>S</td>\n",
       "    </tr>\n",
       "    <tr>\n",
       "      <th>8</th>\n",
       "      <td>9</td>\n",
       "      <td>1</td>\n",
       "      <td>3</td>\n",
       "      <td>Johnson, Mrs. Oscar W (Elisabeth Vilhelmina Berg)</td>\n",
       "      <td>female</td>\n",
       "      <td>27.0</td>\n",
       "      <td>0</td>\n",
       "      <td>2</td>\n",
       "      <td>347742</td>\n",
       "      <td>11.1333</td>\n",
       "      <td>NaN</td>\n",
       "      <td>S</td>\n",
       "    </tr>\n",
       "    <tr>\n",
       "      <th>9</th>\n",
       "      <td>10</td>\n",
       "      <td>1</td>\n",
       "      <td>2</td>\n",
       "      <td>Nasser, Mrs. Nicholas (Adele Achem)</td>\n",
       "      <td>female</td>\n",
       "      <td>14.0</td>\n",
       "      <td>1</td>\n",
       "      <td>0</td>\n",
       "      <td>237736</td>\n",
       "      <td>30.0708</td>\n",
       "      <td>NaN</td>\n",
       "      <td>C</td>\n",
       "    </tr>\n",
       "  </tbody>\n",
       "</table>\n",
       "</div>"
      ],
      "text/plain": [
       "   PassengerId  Survived  Pclass  \\\n",
       "0            1         0       3   \n",
       "1            2         1       1   \n",
       "2            3         1       3   \n",
       "3            4         1       1   \n",
       "4            5         0       3   \n",
       "5            6         0       3   \n",
       "6            7         0       1   \n",
       "7            8         0       3   \n",
       "8            9         1       3   \n",
       "9           10         1       2   \n",
       "\n",
       "                                                Name     Sex   Age  SibSp  \\\n",
       "0                            Braund, Mr. Owen Harris    male  22.0      1   \n",
       "1  Cumings, Mrs. John Bradley (Florence Briggs Th...  female  38.0      1   \n",
       "2                             Heikkinen, Miss. Laina  female  26.0      0   \n",
       "3       Futrelle, Mrs. Jacques Heath (Lily May Peel)  female  35.0      1   \n",
       "4                           Allen, Mr. William Henry    male  35.0      0   \n",
       "5                                   Moran, Mr. James    male   NaN      0   \n",
       "6                            McCarthy, Mr. Timothy J    male  54.0      0   \n",
       "7                     Palsson, Master. Gosta Leonard    male   2.0      3   \n",
       "8  Johnson, Mrs. Oscar W (Elisabeth Vilhelmina Berg)  female  27.0      0   \n",
       "9                Nasser, Mrs. Nicholas (Adele Achem)  female  14.0      1   \n",
       "\n",
       "   Parch            Ticket     Fare Cabin Embarked  \n",
       "0      0         A/5 21171   7.2500   NaN        S  \n",
       "1      0          PC 17599  71.2833   C85        C  \n",
       "2      0  STON/O2. 3101282   7.9250   NaN        S  \n",
       "3      0            113803  53.1000  C123        S  \n",
       "4      0            373450   8.0500   NaN        S  \n",
       "5      0            330877   8.4583   NaN        Q  \n",
       "6      0             17463  51.8625   E46        S  \n",
       "7      1            349909  21.0750   NaN        S  \n",
       "8      2            347742  11.1333   NaN        S  \n",
       "9      0            237736  30.0708   NaN        C  "
      ]
     },
     "execution_count": 102,
     "metadata": {},
     "output_type": "execute_result"
    }
   ],
   "source": [
    "train.head(10)"
   ]
  },
  {
   "cell_type": "code",
   "execution_count": 103,
   "metadata": {},
   "outputs": [
    {
     "data": {
      "text/html": [
       "<div>\n",
       "<style scoped>\n",
       "    .dataframe tbody tr th:only-of-type {\n",
       "        vertical-align: middle;\n",
       "    }\n",
       "\n",
       "    .dataframe tbody tr th {\n",
       "        vertical-align: top;\n",
       "    }\n",
       "\n",
       "    .dataframe thead th {\n",
       "        text-align: right;\n",
       "    }\n",
       "</style>\n",
       "<table border=\"1\" class=\"dataframe\">\n",
       "  <thead>\n",
       "    <tr style=\"text-align: right;\">\n",
       "      <th></th>\n",
       "      <th>PassengerId</th>\n",
       "      <th>Pclass</th>\n",
       "      <th>Name</th>\n",
       "      <th>Sex</th>\n",
       "      <th>Age</th>\n",
       "      <th>SibSp</th>\n",
       "      <th>Parch</th>\n",
       "      <th>Ticket</th>\n",
       "      <th>Fare</th>\n",
       "      <th>Cabin</th>\n",
       "      <th>Embarked</th>\n",
       "    </tr>\n",
       "  </thead>\n",
       "  <tbody>\n",
       "    <tr>\n",
       "      <th>0</th>\n",
       "      <td>892</td>\n",
       "      <td>3</td>\n",
       "      <td>Kelly, Mr. James</td>\n",
       "      <td>male</td>\n",
       "      <td>34.5</td>\n",
       "      <td>0</td>\n",
       "      <td>0</td>\n",
       "      <td>330911</td>\n",
       "      <td>7.8292</td>\n",
       "      <td>NaN</td>\n",
       "      <td>Q</td>\n",
       "    </tr>\n",
       "    <tr>\n",
       "      <th>1</th>\n",
       "      <td>893</td>\n",
       "      <td>3</td>\n",
       "      <td>Wilkes, Mrs. James (Ellen Needs)</td>\n",
       "      <td>female</td>\n",
       "      <td>47.0</td>\n",
       "      <td>1</td>\n",
       "      <td>0</td>\n",
       "      <td>363272</td>\n",
       "      <td>7.0000</td>\n",
       "      <td>NaN</td>\n",
       "      <td>S</td>\n",
       "    </tr>\n",
       "    <tr>\n",
       "      <th>2</th>\n",
       "      <td>894</td>\n",
       "      <td>2</td>\n",
       "      <td>Myles, Mr. Thomas Francis</td>\n",
       "      <td>male</td>\n",
       "      <td>62.0</td>\n",
       "      <td>0</td>\n",
       "      <td>0</td>\n",
       "      <td>240276</td>\n",
       "      <td>9.6875</td>\n",
       "      <td>NaN</td>\n",
       "      <td>Q</td>\n",
       "    </tr>\n",
       "    <tr>\n",
       "      <th>3</th>\n",
       "      <td>895</td>\n",
       "      <td>3</td>\n",
       "      <td>Wirz, Mr. Albert</td>\n",
       "      <td>male</td>\n",
       "      <td>27.0</td>\n",
       "      <td>0</td>\n",
       "      <td>0</td>\n",
       "      <td>315154</td>\n",
       "      <td>8.6625</td>\n",
       "      <td>NaN</td>\n",
       "      <td>S</td>\n",
       "    </tr>\n",
       "    <tr>\n",
       "      <th>4</th>\n",
       "      <td>896</td>\n",
       "      <td>3</td>\n",
       "      <td>Hirvonen, Mrs. Alexander (Helga E Lindqvist)</td>\n",
       "      <td>female</td>\n",
       "      <td>22.0</td>\n",
       "      <td>1</td>\n",
       "      <td>1</td>\n",
       "      <td>3101298</td>\n",
       "      <td>12.2875</td>\n",
       "      <td>NaN</td>\n",
       "      <td>S</td>\n",
       "    </tr>\n",
       "  </tbody>\n",
       "</table>\n",
       "</div>"
      ],
      "text/plain": [
       "   PassengerId  Pclass                                          Name     Sex  \\\n",
       "0          892       3                              Kelly, Mr. James    male   \n",
       "1          893       3              Wilkes, Mrs. James (Ellen Needs)  female   \n",
       "2          894       2                     Myles, Mr. Thomas Francis    male   \n",
       "3          895       3                              Wirz, Mr. Albert    male   \n",
       "4          896       3  Hirvonen, Mrs. Alexander (Helga E Lindqvist)  female   \n",
       "\n",
       "    Age  SibSp  Parch   Ticket     Fare Cabin Embarked  \n",
       "0  34.5      0      0   330911   7.8292   NaN        Q  \n",
       "1  47.0      1      0   363272   7.0000   NaN        S  \n",
       "2  62.0      0      0   240276   9.6875   NaN        Q  \n",
       "3  27.0      0      0   315154   8.6625   NaN        S  \n",
       "4  22.0      1      1  3101298  12.2875   NaN        S  "
      ]
     },
     "execution_count": 103,
     "metadata": {},
     "output_type": "execute_result"
    }
   ],
   "source": [
    "test.head()"
   ]
  },
  {
   "cell_type": "code",
   "execution_count": 104,
   "metadata": {},
   "outputs": [],
   "source": [
    "idtest = test['PassengerId']"
   ]
  },
  {
   "cell_type": "markdown",
   "metadata": {},
   "source": [
    "#### Pre-processing and Exploratory Data Analysis"
   ]
  },
  {
   "cell_type": "markdown",
   "metadata": {},
   "source": [
    "##### Outliers - if we are taking random sample, and some observations are at an abnormal distance from the other observations, then we're most probably looking at outliers."
   ]
  },
  {
   "cell_type": "markdown",
   "metadata": {},
   "source": [
    "https://www.youtube.com/watch?v=9aDHbRb4Bf8&t=10s"
   ]
  },
  {
   "cell_type": "code",
   "execution_count": 105,
   "metadata": {},
   "outputs": [],
   "source": [
    "def detect_outliers(df,n,features):\n",
    "    outlier_indices = []\n",
    "    \n",
    "    # iterating over dataframe\n",
    "    for col in features:\n",
    "        \n",
    "        # Find 1st quartile\n",
    "        Q1 = np.percentile(df[col],25)\n",
    "        \n",
    "        # Find 3rd quartile\n",
    "        Q3 = np.percentile(df[col],75)\n",
    "        \n",
    "        # Finding Interquartile Range\n",
    "        IQR = Q3-Q1\n",
    "        \n",
    "        # Setting outlier step to 1.5\n",
    "        outlier_step = 1.5 * IQR\n",
    "        \n",
    "        outlier_list_col = df[(df[col] < Q1-outlier_step) | (df[col] > Q3+outlier_step)].index\n",
    "        \n",
    "        # appending indices\n",
    "        outlier_indices.extend(outlier_list_col)\n",
    "        \n",
    "        \n",
    "    outlier_indices = Counter(outlier_indices)\n",
    "    \n",
    "    multiple_outliers = list(k for k,v in outlier_indices.items() if v>n)\n",
    "    \n",
    "    return multiple_outliers"
   ]
  },
  {
   "cell_type": "code",
   "execution_count": 106,
   "metadata": {},
   "outputs": [
    {
     "data": {
      "text/plain": [
       "Counter({'x': 4, 'v': 5, 'r': 2, 'w': 4, 'f': 1})"
      ]
     },
     "execution_count": 106,
     "metadata": {},
     "output_type": "execute_result"
    }
   ],
   "source": [
    "c = 'x v v v x v v r r w w w w x x f'.split()\n",
    "Counter(c)"
   ]
  },
  {
   "cell_type": "code",
   "execution_count": 107,
   "metadata": {},
   "outputs": [
    {
     "data": {
      "text/plain": [
       "[27, 88, 159, 180, 201, 324, 341, 792, 846, 863]"
      ]
     },
     "execution_count": 107,
     "metadata": {},
     "output_type": "execute_result"
    }
   ],
   "source": [
    "outliers = detect_outliers(train,2,['Age','SibSp','Fare','Parch'])\n",
    "\n",
    "outliers"
   ]
  },
  {
   "cell_type": "code",
   "execution_count": 108,
   "metadata": {},
   "outputs": [
    {
     "data": {
      "text/plain": [
       "0.0"
      ]
     },
     "execution_count": 108,
     "metadata": {},
     "output_type": "execute_result"
    }
   ],
   "source": [
    "Q1 = np.percentile(train['SibSp'],25)\n",
    "Q1"
   ]
  },
  {
   "cell_type": "code",
   "execution_count": 109,
   "metadata": {},
   "outputs": [
    {
     "data": {
      "text/plain": [
       "(891, 12)"
      ]
     },
     "execution_count": 109,
     "metadata": {},
     "output_type": "execute_result"
    }
   ],
   "source": [
    "train.shape"
   ]
  },
  {
   "cell_type": "code",
   "execution_count": 110,
   "metadata": {},
   "outputs": [
    {
     "data": {
      "text/plain": [
       "(881, 12)"
      ]
     },
     "execution_count": 110,
     "metadata": {},
     "output_type": "execute_result"
    }
   ],
   "source": [
    "train = train.drop(outliers,axis=0).reset_index(drop=True)\n",
    "train.shape"
   ]
  },
  {
   "cell_type": "code",
   "execution_count": 111,
   "metadata": {},
   "outputs": [
    {
     "name": "stdout",
     "output_type": "stream",
     "text": [
      "<class 'pandas.core.frame.DataFrame'>\n",
      "RangeIndex: 1299 entries, 0 to 1298\n",
      "Data columns (total 12 columns):\n",
      " #   Column       Non-Null Count  Dtype  \n",
      "---  ------       --------------  -----  \n",
      " 0   PassengerId  1299 non-null   int64  \n",
      " 1   Survived     881 non-null    float64\n",
      " 2   Pclass       1299 non-null   int64  \n",
      " 3   Name         1299 non-null   object \n",
      " 4   Sex          1299 non-null   object \n",
      " 5   Age          1043 non-null   float64\n",
      " 6   SibSp        1299 non-null   int64  \n",
      " 7   Parch        1299 non-null   int64  \n",
      " 8   Ticket       1299 non-null   object \n",
      " 9   Fare         1298 non-null   float64\n",
      " 10  Cabin        292 non-null    object \n",
      " 11  Embarked     1297 non-null   object \n",
      "dtypes: float64(3), int64(4), object(5)\n",
      "memory usage: 121.9+ KB\n"
     ]
    }
   ],
   "source": [
    "train_len = len(train)\n",
    "\n",
    "df = pd.concat(objs=[train,test],axis=0).reset_index(drop=True)\n",
    "df.info()"
   ]
  },
  {
   "cell_type": "markdown",
   "metadata": {},
   "source": [
    "##### Check for missing values"
   ]
  },
  {
   "cell_type": "code",
   "execution_count": 112,
   "metadata": {},
   "outputs": [
    {
     "data": {
      "text/plain": [
       "PassengerId       0\n",
       "Survived        418\n",
       "Pclass            0\n",
       "Name              0\n",
       "Sex               0\n",
       "Age             256\n",
       "SibSp             0\n",
       "Parch             0\n",
       "Ticket            0\n",
       "Fare              1\n",
       "Cabin          1007\n",
       "Embarked          2\n",
       "dtype: int64"
      ]
     },
     "execution_count": 112,
     "metadata": {},
     "output_type": "execute_result"
    }
   ],
   "source": [
    "df.fillna(np.nan,inplace=True)\n",
    "df.isnull().sum()"
   ]
  },
  {
   "cell_type": "markdown",
   "metadata": {},
   "source": [
    "#### Feature Analysis"
   ]
  },
  {
   "cell_type": "code",
   "execution_count": 113,
   "metadata": {},
   "outputs": [
    {
     "data": {
      "image/png": "[encoded data removed]",
      "text/plain": [
       "<Figure size 864x432 with 2 Axes>"
      ]
     },
     "metadata": {
      "needs_background": "light"
     },
     "output_type": "display_data"
    }
   ],
   "source": [
    "plt.figure(figsize=(12,6))\n",
    "\n",
    "sns.heatmap(train[['Pclass', 'Age', 'SibSp', 'Parch', 'Fare']].corr(),\n",
    "            annot=True,\n",
    "            cmap='coolwarm');"
   ]
  },
  {
   "cell_type": "markdown",
   "metadata": {},
   "source": [
    "1. Fare is having correlation with pclass and survived.\n",
    "\n",
    "2. pclass is having correlation with fare and survived and age.\n",
    "\n",
    "3. sibsp and parch are correlated."
   ]
  },
  {
   "cell_type": "markdown",
   "metadata": {},
   "source": [
    "#### Explore sibsp"
   ]
  },
  {
   "cell_type": "code",
   "execution_count": 114,
   "metadata": {},
   "outputs": [
    {
     "data": {
      "image/png": "[encoded data removed]",
      "text/plain": [
       "<Figure size 360x360 with 1 Axes>"
      ]
     },
     "metadata": {
      "needs_background": "light"
     },
     "output_type": "display_data"
    }
   ],
   "source": [
    "g = sns.factorplot(x='SibSp',y='Survived',data=train,kind='bar',palette='muted')\n",
    "\n",
    "g = g.set_ylabels('Survival Probability')"
   ]
  },
  {
   "cell_type": "markdown",
   "metadata": {},
   "source": [
    "1. More sibsp less survival esp. >2\n",
    "2. Single passengers (sibsp=0,1) have higher survival prob. as compared to sibsp >1."
   ]
  },
  {
   "cell_type": "markdown",
   "metadata": {},
   "source": [
    "#### Explore Parch"
   ]
  },
  {
   "cell_type": "code",
   "execution_count": 115,
   "metadata": {},
   "outputs": [
    {
     "data": {
      "image/png": "[encoded data removed]",
      "text/plain": [
       "<Figure size 360x360 with 1 Axes>"
      ]
     },
     "metadata": {
      "needs_background": "light"
     },
     "output_type": "display_data"
    }
   ],
   "source": [
    "g = sns.factorplot(x='Parch',y='Survived',data=train,kind='bar',palette='muted')\n",
    "\n",
    "g = g.set_ylabels('Survival Probability')"
   ]
  },
  {
   "cell_type": "markdown",
   "metadata": {},
   "source": [
    "1. Smaller families have higher chance of survival.\n",
    "\n",
    "    * Single, when parch = 0\n",
    "    * small, when parch = 1,2\n",
    "    * medium, when parch = 3\n",
    "    * large, when parch > 3"
   ]
  },
  {
   "cell_type": "markdown",
   "metadata": {},
   "source": [
    "#### Age"
   ]
  },
  {
   "cell_type": "code",
   "execution_count": 116,
   "metadata": {},
   "outputs": [
    {
     "data": {
      "image/png": "[encoded data removed]",
      "text/plain": [
       "<Figure size 432x216 with 2 Axes>"
      ]
     },
     "metadata": {
      "needs_background": "light"
     },
     "output_type": "display_data"
    }
   ],
   "source": [
    "g = sns.FacetGrid(train,col='Survived')\n",
    "g = g.map(sns.distplot,'Age')"
   ]
  },
  {
   "cell_type": "markdown",
   "metadata": {},
   "source": [
    "1. Age distribution is gaussian in nature.\n",
    "2. Peaks indicate that younger population survived more."
   ]
  },
  {
   "cell_type": "markdown",
   "metadata": {},
   "source": [
    "#### Fare"
   ]
  },
  {
   "cell_type": "code",
   "execution_count": 117,
   "metadata": {},
   "outputs": [
    {
     "data": {
      "text/plain": [
       "1"
      ]
     },
     "execution_count": 117,
     "metadata": {},
     "output_type": "execute_result"
    }
   ],
   "source": [
    "df['Fare'].isnull().sum()"
   ]
  },
  {
   "cell_type": "code",
   "execution_count": 118,
   "metadata": {},
   "outputs": [],
   "source": [
    "df['Fare'].fillna(df['Fare'].median(),inplace=True)"
   ]
  },
  {
   "cell_type": "code",
   "execution_count": 119,
   "metadata": {},
   "outputs": [
    {
     "data": {
      "text/plain": [
       "0"
      ]
     },
     "execution_count": 119,
     "metadata": {},
     "output_type": "execute_result"
    }
   ],
   "source": [
    "df['Fare'].isnull().sum()"
   ]
  },
  {
   "cell_type": "code",
   "execution_count": 120,
   "metadata": {},
   "outputs": [
    {
     "data": {
      "image/png": "[encoded data removed]",
      "text/plain": [
       "<Figure size 432x288 with 1 Axes>"
      ]
     },
     "metadata": {
      "needs_background": "light"
     },
     "output_type": "display_data"
    }
   ],
   "source": [
    "g = sns.distplot(df['Fare'],label='Skewness:%.2f'%df['Fare'].skew())\n",
    "g = g.legend()"
   ]
  },
  {
   "cell_type": "markdown",
   "metadata": {},
   "source": [
    "#### We'll use log transformation to remove the skew"
   ]
  },
  {
   "cell_type": "code",
   "execution_count": 121,
   "metadata": {},
   "outputs": [],
   "source": [
    "df['Fare'] = df['Fare'].map(lambda x: np.log(x) if x>0 else 0)"
   ]
  },
  {
   "cell_type": "code",
   "execution_count": 122,
   "metadata": {},
   "outputs": [
    {
     "data": {
      "image/png": "[encoded data removed]",
      "text/plain": [
       "<Figure size 432x288 with 1 Axes>"
      ]
     },
     "metadata": {
      "needs_background": "light"
     },
     "output_type": "display_data"
    }
   ],
   "source": [
    "g = sns.distplot(df['Fare'],label='Skewness:%.2f'%df['Fare'].skew())\n",
    "g = g.legend()"
   ]
  },
  {
   "cell_type": "markdown",
   "metadata": {},
   "source": [
    "### Categorical Columns"
   ]
  },
  {
   "cell_type": "code",
   "execution_count": 123,
   "metadata": {},
   "outputs": [
    {
     "data": {
      "image/png": "[encoded data removed]",
      "text/plain": [
       "<Figure size 432x288 with 1 Axes>"
      ]
     },
     "metadata": {
      "needs_background": "light"
     },
     "output_type": "display_data"
    }
   ],
   "source": [
    "g = sns.barplot(x='Sex',y='Survived',data=train)"
   ]
  },
  {
   "cell_type": "markdown",
   "metadata": {},
   "source": [
    "#### PClass"
   ]
  },
  {
   "cell_type": "code",
   "execution_count": 124,
   "metadata": {},
   "outputs": [
    {
     "data": {
      "image/png": "[encoded data removed]",
      "text/plain": [
       "<Figure size 360x360 with 1 Axes>"
      ]
     },
     "metadata": {
      "needs_background": "light"
     },
     "output_type": "display_data"
    }
   ],
   "source": [
    "g = sns.factorplot(x='Pclass',y='Survived',data=train,kind='bar',palette='muted')\n",
    "\n",
    "g = g.set_ylabels('Survival Probability')"
   ]
  },
  {
   "cell_type": "markdown",
   "metadata": {},
   "source": [
    "Pclass = 1 > Pclass = 2 > Pclass = 3"
   ]
  },
  {
   "cell_type": "code",
   "execution_count": 125,
   "metadata": {},
   "outputs": [
    {
     "data": {
      "image/png": "[encoded data removed]",
      "text/plain": [
       "<Figure size 504.85x432 with 1 Axes>"
      ]
     },
     "metadata": {
      "needs_background": "light"
     },
     "output_type": "display_data"
    }
   ],
   "source": [
    "g = sns.factorplot(x='Pclass',\n",
    "                   y='Survived',\n",
    "                   data=train,\n",
    "                   kind='bar',\n",
    "                   hue='Sex',\n",
    "                   palette='muted',\n",
    "                   size=6)\n",
    "g = g.set_ylabels('Survival Probability')"
   ]
  },
  {
   "cell_type": "markdown",
   "metadata": {},
   "source": [
    "Trend by gender ratio seems the same"
   ]
  },
  {
   "cell_type": "markdown",
   "metadata": {},
   "source": [
    "#### Embarked"
   ]
  },
  {
   "cell_type": "code",
   "execution_count": 126,
   "metadata": {},
   "outputs": [
    {
     "data": {
      "text/plain": [
       "2"
      ]
     },
     "execution_count": 126,
     "metadata": {},
     "output_type": "execute_result"
    }
   ],
   "source": [
    "df['Embarked'].isnull().sum()"
   ]
  },
  {
   "cell_type": "code",
   "execution_count": 127,
   "metadata": {},
   "outputs": [
    {
     "data": {
      "text/plain": [
       "S    904\n",
       "C    270\n",
       "Q    123\n",
       "Name: Embarked, dtype: int64"
      ]
     },
     "execution_count": 127,
     "metadata": {},
     "output_type": "execute_result"
    }
   ],
   "source": [
    "df['Embarked'].value_counts()"
   ]
  },
  {
   "cell_type": "code",
   "execution_count": 128,
   "metadata": {},
   "outputs": [],
   "source": [
    "df['Embarked'].fillna('S',inplace=True)"
   ]
  },
  {
   "cell_type": "code",
   "execution_count": 129,
   "metadata": {},
   "outputs": [
    {
     "data": {
      "text/plain": [
       "0"
      ]
     },
     "execution_count": 129,
     "metadata": {},
     "output_type": "execute_result"
    }
   ],
   "source": [
    "df['Embarked'].isnull().sum()"
   ]
  },
  {
   "cell_type": "code",
   "execution_count": 130,
   "metadata": {},
   "outputs": [
    {
     "data": {
      "image/png": "[encoded data removed]",
      "text/plain": [
       "<Figure size 432x432 with 1 Axes>"
      ]
     },
     "metadata": {
      "needs_background": "light"
     },
     "output_type": "display_data"
    }
   ],
   "source": [
    "g = sns.factorplot(x='Embarked',\n",
    "                   y='Survived',\n",
    "                   data=train,\n",
    "                   kind='bar',\n",
    "                   palette='muted',\n",
    "                   size=6)\n",
    "g = g.set_ylabels('Survival Probability')"
   ]
  },
  {
   "cell_type": "markdown",
   "metadata": {},
   "source": [
    "1. Highest prob. of survival is of the people who embarked from cherbourg."
   ]
  },
  {
   "cell_type": "code",
   "execution_count": 131,
   "metadata": {},
   "outputs": [
    {
     "data": {
      "image/png": "[encoded data removed]",
      "text/plain": [
       "<Figure size 1296x432 with 3 Axes>"
      ]
     },
     "metadata": {
      "needs_background": "light"
     },
     "output_type": "display_data"
    }
   ],
   "source": [
    "g = sns.factorplot(x='Pclass',\n",
    "                   col='Embarked',\n",
    "                   data=train,\n",
    "                   kind='count',\n",
    "                   palette='muted',\n",
    "                   size=6)\n",
    "g = g.set_ylabels('Survival Probability')"
   ]
  },
  {
   "cell_type": "markdown",
   "metadata": {},
   "source": [
    "#### Missing value imputations"
   ]
  },
  {
   "cell_type": "code",
   "execution_count": 132,
   "metadata": {},
   "outputs": [
    {
     "data": {
      "text/plain": [
       "PassengerId       0\n",
       "Survived        418\n",
       "Pclass            0\n",
       "Name              0\n",
       "Sex               0\n",
       "Age             256\n",
       "SibSp             0\n",
       "Parch             0\n",
       "Ticket            0\n",
       "Fare              0\n",
       "Cabin          1007\n",
       "Embarked          0\n",
       "dtype: int64"
      ]
     },
     "execution_count": 132,
     "metadata": {},
     "output_type": "execute_result"
    }
   ],
   "source": [
    "df.isnull().sum()"
   ]
  },
  {
   "cell_type": "code",
   "execution_count": 133,
   "metadata": {},
   "outputs": [
    {
     "data": {
      "text/plain": [
       "Index(['PassengerId', 'Survived', 'Pclass', 'Name', 'Sex', 'Age', 'SibSp',\n",
       "       'Parch', 'Ticket', 'Fare', 'Cabin', 'Embarked'],\n",
       "      dtype='object')"
      ]
     },
     "execution_count": 133,
     "metadata": {},
     "output_type": "execute_result"
    }
   ],
   "source": [
    "df.columns"
   ]
  },
  {
   "cell_type": "code",
   "execution_count": 134,
   "metadata": {},
   "outputs": [
    {
     "data": {
      "text/plain": [
       "<matplotlib.axes._subplots.AxesSubplot at 0x7ff8cedaad30>"
      ]
     },
     "execution_count": 134,
     "metadata": {},
     "output_type": "execute_result"
    },
    {
     "data": {
      "image/png": "[encoded data removed]",
      "text/plain": [
       "<Figure size 432x288 with 2 Axes>"
      ]
     },
     "metadata": {
      "needs_background": "light"
     },
     "output_type": "display_data"
    }
   ],
   "source": [
    "sns.heatmap(df[['Survived', 'Pclass', 'Age', 'SibSp','Parch', 'Fare']].corr(),\n",
    "            cmap='coolwarm',\n",
    "            annot=True)"
   ]
  },
  {
   "cell_type": "markdown",
   "metadata": {},
   "source": [
    "#### Impute Age"
   ]
  },
  {
   "cell_type": "code",
   "execution_count": 135,
   "metadata": {},
   "outputs": [
    {
     "data": {
      "image/png": "[encoded data removed]",
      "text/plain": [
       "<Figure size 360x360 with 1 Axes>"
      ]
     },
     "metadata": {
      "needs_background": "light"
     },
     "output_type": "display_data"
    },
    {
     "data": {
      "image/png": "[encoded data removed]",
      "text/plain": [
       "<Figure size 405.725x360 with 1 Axes>"
      ]
     },
     "metadata": {
      "needs_background": "light"
     },
     "output_type": "display_data"
    },
    {
     "data": {
      "image/png": "[encoded data removed]",
      "text/plain": [
       "<Figure size 360x360 with 1 Axes>"
      ]
     },
     "metadata": {
      "needs_background": "light"
     },
     "output_type": "display_data"
    },
    {
     "data": {
      "image/png": "[encoded data removed]",
      "text/plain": [
       "<Figure size 360x360 with 1 Axes>"
      ]
     },
     "metadata": {
      "needs_background": "light"
     },
     "output_type": "display_data"
    },
    {
     "data": {
      "image/png": "[encoded data removed]",
      "text/plain": [
       "<Figure size 360x360 with 1 Axes>"
      ]
     },
     "metadata": {
      "needs_background": "light"
     },
     "output_type": "display_data"
    }
   ],
   "source": [
    "g = sns.factorplot(x='Sex',y='Age',data=df,kind='box')\n",
    "g = sns.factorplot(x='Sex',y='Age',hue='Pclass',data=df,kind='box')\n",
    "g = sns.factorplot(x='Pclass',y='Age',data=df,kind='box')\n",
    "g = sns.factorplot(x='SibSp',y='Age',data=df,kind='box')\n",
    "g = sns.factorplot(x='Parch',y='Age',data=df,kind='box')"
   ]
  },
  {
   "cell_type": "markdown",
   "metadata": {},
   "source": [
    "#### We'll use SibSp, Parch, and Pclass for age imputation"
   ]
  },
  {
   "cell_type": "code",
   "execution_count": 136,
   "metadata": {},
   "outputs": [],
   "source": [
    "index_nan = list(df['Age'][df['Age'].isnull()].index)\n",
    "age_median = df['Age'].median()\n",
    "\n",
    "for i in index_nan:\n",
    "    age_pred = df['Age'][(df['SibSp'] == df.iloc[i]['SibSp'])\n",
    "                        &(df['Parch'] == df.iloc[i]['Parch'])\n",
    "                        &(df['Pclass'] == df.iloc[i]['Pclass'])].median()\n",
    "    \n",
    "    if not np.isnan(age_pred):\n",
    "        df['Age'].iloc[i] = age_pred\n",
    "    else:\n",
    "        df['Age'].iloc[i] = age_median"
   ]
  },
  {
   "cell_type": "code",
   "execution_count": 38,
   "metadata": {},
   "outputs": [],
   "source": [
    "# index_nan = 5\n",
    "\n",
    "# df['Age'].median() = 26\n",
    "\n",
    "# df['Age'].iloc[5] = 25 so age_pred will be replaced\n",
    "\n",
    "age_pred = df['Age'][(df['SibSp'] == df.iloc[5]['SibSp'])\n",
    "                    &(df['Parch'] == df.iloc[5]['Parch'])\n",
    "                    &(df['Pclass'] == df.iloc[5]['Pclass'])].median()"
   ]
  },
  {
   "cell_type": "code",
   "execution_count": 145,
   "metadata": {},
   "outputs": [
    {
     "data": {
      "text/plain": [
       "25.0"
      ]
     },
     "execution_count": 145,
     "metadata": {},
     "output_type": "execute_result"
    }
   ],
   "source": [
    "# df.iloc[5]['SibSp'] = 0\n",
    "# df.iloc[5]['Parch'] = 0\n",
    "# df.iloc[5]['Pclass'] = 3\n",
    "\n",
    "df['Age'][(df['SibSp'] == 0)\n",
    "                    &(df['Parch'] == 0)\n",
    "                    &(df['Pclass'] == 3)].median()"
   ]
  },
  {
   "cell_type": "code",
   "execution_count": 39,
   "metadata": {},
   "outputs": [
    {
     "data": {
      "text/plain": [
       "0"
      ]
     },
     "execution_count": 39,
     "metadata": {},
     "output_type": "execute_result"
    }
   ],
   "source": [
    "df['Age'].isnull().sum()"
   ]
  },
  {
   "cell_type": "markdown",
   "metadata": {},
   "source": [
    "#### Name"
   ]
  },
  {
   "cell_type": "code",
   "execution_count": 40,
   "metadata": {},
   "outputs": [
    {
     "data": {
      "text/plain": [
       "'Mr'"
      ]
     },
     "execution_count": 40,
     "metadata": {},
     "output_type": "execute_result"
    }
   ],
   "source": [
    "s = df['Name'][0]\n",
    "s.split(',')[1].strip().split('.')[0]"
   ]
  },
  {
   "cell_type": "code",
   "execution_count": 41,
   "metadata": {},
   "outputs": [],
   "source": [
    "df['Title'] = [s.split(',')[1].strip().split('.')[0] for s in df['Name']]"
   ]
  },
  {
   "cell_type": "code",
   "execution_count": 42,
   "metadata": {},
   "outputs": [
    {
     "data": {
      "text/html": [
       "<div>\n",
       "<style scoped>\n",
       "    .dataframe tbody tr th:only-of-type {\n",
       "        vertical-align: middle;\n",
       "    }\n",
       "\n",
       "    .dataframe tbody tr th {\n",
       "        vertical-align: top;\n",
       "    }\n",
       "\n",
       "    .dataframe thead th {\n",
       "        text-align: right;\n",
       "    }\n",
       "</style>\n",
       "<table border=\"1\" class=\"dataframe\">\n",
       "  <thead>\n",
       "    <tr style=\"text-align: right;\">\n",
       "      <th></th>\n",
       "      <th>PassengerId</th>\n",
       "      <th>Survived</th>\n",
       "      <th>Pclass</th>\n",
       "      <th>Name</th>\n",
       "      <th>Sex</th>\n",
       "      <th>Age</th>\n",
       "      <th>SibSp</th>\n",
       "      <th>Parch</th>\n",
       "      <th>Ticket</th>\n",
       "      <th>Fare</th>\n",
       "      <th>Cabin</th>\n",
       "      <th>Embarked</th>\n",
       "      <th>Title</th>\n",
       "    </tr>\n",
       "  </thead>\n",
       "  <tbody>\n",
       "    <tr>\n",
       "      <th>0</th>\n",
       "      <td>1</td>\n",
       "      <td>0.0</td>\n",
       "      <td>3</td>\n",
       "      <td>Braund, Mr. Owen Harris</td>\n",
       "      <td>male</td>\n",
       "      <td>22.0</td>\n",
       "      <td>1</td>\n",
       "      <td>0</td>\n",
       "      <td>A/5 21171</td>\n",
       "      <td>1.981001</td>\n",
       "      <td>NaN</td>\n",
       "      <td>S</td>\n",
       "      <td>Mr</td>\n",
       "    </tr>\n",
       "    <tr>\n",
       "      <th>1</th>\n",
       "      <td>2</td>\n",
       "      <td>1.0</td>\n",
       "      <td>1</td>\n",
       "      <td>Cumings, Mrs. John Bradley (Florence Briggs Th...</td>\n",
       "      <td>female</td>\n",
       "      <td>38.0</td>\n",
       "      <td>1</td>\n",
       "      <td>0</td>\n",
       "      <td>PC 17599</td>\n",
       "      <td>4.266662</td>\n",
       "      <td>C85</td>\n",
       "      <td>C</td>\n",
       "      <td>Mrs</td>\n",
       "    </tr>\n",
       "    <tr>\n",
       "      <th>2</th>\n",
       "      <td>3</td>\n",
       "      <td>1.0</td>\n",
       "      <td>3</td>\n",
       "      <td>Heikkinen, Miss. Laina</td>\n",
       "      <td>female</td>\n",
       "      <td>26.0</td>\n",
       "      <td>0</td>\n",
       "      <td>0</td>\n",
       "      <td>STON/O2. 3101282</td>\n",
       "      <td>2.070022</td>\n",
       "      <td>NaN</td>\n",
       "      <td>S</td>\n",
       "      <td>Miss</td>\n",
       "    </tr>\n",
       "    <tr>\n",
       "      <th>3</th>\n",
       "      <td>4</td>\n",
       "      <td>1.0</td>\n",
       "      <td>1</td>\n",
       "      <td>Futrelle, Mrs. Jacques Heath (Lily May Peel)</td>\n",
       "      <td>female</td>\n",
       "      <td>35.0</td>\n",
       "      <td>1</td>\n",
       "      <td>0</td>\n",
       "      <td>113803</td>\n",
       "      <td>3.972177</td>\n",
       "      <td>C123</td>\n",
       "      <td>S</td>\n",
       "      <td>Mrs</td>\n",
       "    </tr>\n",
       "    <tr>\n",
       "      <th>4</th>\n",
       "      <td>5</td>\n",
       "      <td>0.0</td>\n",
       "      <td>3</td>\n",
       "      <td>Allen, Mr. William Henry</td>\n",
       "      <td>male</td>\n",
       "      <td>35.0</td>\n",
       "      <td>0</td>\n",
       "      <td>0</td>\n",
       "      <td>373450</td>\n",
       "      <td>2.085672</td>\n",
       "      <td>NaN</td>\n",
       "      <td>S</td>\n",
       "      <td>Mr</td>\n",
       "    </tr>\n",
       "  </tbody>\n",
       "</table>\n",
       "</div>"
      ],
      "text/plain": [
       "   PassengerId  Survived  Pclass  \\\n",
       "0            1       0.0       3   \n",
       "1            2       1.0       1   \n",
       "2            3       1.0       3   \n",
       "3            4       1.0       1   \n",
       "4            5       0.0       3   \n",
       "\n",
       "                                                Name     Sex   Age  SibSp  \\\n",
       "0                            Braund, Mr. Owen Harris    male  22.0      1   \n",
       "1  Cumings, Mrs. John Bradley (Florence Briggs Th...  female  38.0      1   \n",
       "2                             Heikkinen, Miss. Laina  female  26.0      0   \n",
       "3       Futrelle, Mrs. Jacques Heath (Lily May Peel)  female  35.0      1   \n",
       "4                           Allen, Mr. William Henry    male  35.0      0   \n",
       "\n",
       "   Parch            Ticket      Fare Cabin Embarked Title  \n",
       "0      0         A/5 21171  1.981001   NaN        S    Mr  \n",
       "1      0          PC 17599  4.266662   C85        C   Mrs  \n",
       "2      0  STON/O2. 3101282  2.070022   NaN        S  Miss  \n",
       "3      0            113803  3.972177  C123        S   Mrs  \n",
       "4      0            373450  2.085672   NaN        S    Mr  "
      ]
     },
     "execution_count": 42,
     "metadata": {},
     "output_type": "execute_result"
    }
   ],
   "source": [
    "df.head()"
   ]
  },
  {
   "cell_type": "code",
   "execution_count": 43,
   "metadata": {},
   "outputs": [
    {
     "data": {
      "text/plain": [
       "Mr              753\n",
       "Miss            255\n",
       "Mrs             197\n",
       "Master           60\n",
       "Dr                8\n",
       "Rev               8\n",
       "Col               4\n",
       "Ms                2\n",
       "Mlle              2\n",
       "Major             2\n",
       "Don               1\n",
       "the Countess      1\n",
       "Sir               1\n",
       "Mme               1\n",
       "Capt              1\n",
       "Lady              1\n",
       "Jonkheer          1\n",
       "Dona              1\n",
       "Name: Title, dtype: int64"
      ]
     },
     "execution_count": 43,
     "metadata": {},
     "output_type": "execute_result"
    }
   ],
   "source": [
    "df['Title'].value_counts()"
   ]
  },
  {
   "cell_type": "code",
   "execution_count": 44,
   "metadata": {},
   "outputs": [],
   "source": [
    "df['Title'] = df['Title'].replace(['Don',\n",
    "                                   'Rev',\n",
    "                                   'Col',\n",
    "                                   'Major',\n",
    "                                   'Capt',\n",
    "                                   'Jonkheer',\n",
    "                                   'the Countess',\n",
    "                                   'Sir',\n",
    "                                   'Dona',\n",
    "                                   'Lady',\n",
    "                                   'Dr',\n",
    "                                   'Mme',\n",
    "                                   'Mlle'],'Rare')"
   ]
  },
  {
   "cell_type": "code",
   "execution_count": 45,
   "metadata": {},
   "outputs": [
    {
     "data": {
      "text/plain": [
       "Mr        753\n",
       "Miss      255\n",
       "Mrs       197\n",
       "Master     60\n",
       "Rare       32\n",
       "Ms          2\n",
       "Name: Title, dtype: int64"
      ]
     },
     "execution_count": 45,
     "metadata": {},
     "output_type": "execute_result"
    }
   ],
   "source": [
    "df['Title'].value_counts()"
   ]
  },
  {
   "cell_type": "code",
   "execution_count": 46,
   "metadata": {},
   "outputs": [],
   "source": [
    "df['Title'] = df['Title'].map({'Mr':0,'Miss':1,'Mrs':1,'Ms':1,'Master':2,'Rare':3})"
   ]
  },
  {
   "cell_type": "code",
   "execution_count": 47,
   "metadata": {},
   "outputs": [
    {
     "data": {
      "text/plain": [
       "0    753\n",
       "1    454\n",
       "2     60\n",
       "3     32\n",
       "Name: Title, dtype: int64"
      ]
     },
     "execution_count": 47,
     "metadata": {},
     "output_type": "execute_result"
    }
   ],
   "source": [
    "df['Title'].value_counts()"
   ]
  },
  {
   "cell_type": "code",
   "execution_count": 48,
   "metadata": {},
   "outputs": [
    {
     "data": {
      "image/png": "[encoded data removed]",
      "text/plain": [
       "<Figure size 432x432 with 1 Axes>"
      ]
     },
     "metadata": {
      "needs_background": "light"
     },
     "output_type": "display_data"
    }
   ],
   "source": [
    "g = sns.factorplot(x='Title',\n",
    "                   y='Survived',\n",
    "                   data=df,\n",
    "                   kind='bar',\n",
    "                   palette='muted',\n",
    "                   size=6)\n",
    "g = g.set_ylabels('Survival Probability')"
   ]
  },
  {
   "cell_type": "markdown",
   "metadata": {},
   "source": [
    "#### Family Size"
   ]
  },
  {
   "cell_type": "markdown",
   "metadata": {},
   "source": [
    "Family Size = Parch + SibSp + 1"
   ]
  },
  {
   "cell_type": "code",
   "execution_count": 49,
   "metadata": {},
   "outputs": [
    {
     "data": {
      "image/png": "[encoded data removed]",
      "text/plain": [
       "<Figure size 432x432 with 1 Axes>"
      ]
     },
     "metadata": {
      "needs_background": "light"
     },
     "output_type": "display_data"
    }
   ],
   "source": [
    "df['Fsize'] = df['Parch']+df['SibSp']+1\n",
    "\n",
    "g = sns.factorplot(x='Fsize',\n",
    "                   y='Survived',\n",
    "                   data=df,\n",
    "                   kind='bar',\n",
    "                   palette='muted',\n",
    "                   size=6)\n",
    "g = g.set_ylabels('Survival Probability')"
   ]
  },
  {
   "cell_type": "code",
   "execution_count": 50,
   "metadata": {},
   "outputs": [],
   "source": [
    "df['Single'] = df['Fsize'].map(lambda x: 1 if x==1 else 0)\n",
    "\n",
    "df['SmallF'] = df['Fsize'].map(lambda x: 1 if x==2 else 0)\n",
    "\n",
    "df['MediumF'] = df['Fsize'].map(lambda x: 1 if 3 <= x <= 4 else 0)\n",
    "\n",
    "df['LargeF'] = df['Fsize'].map(lambda x: 1 if x > 4 else 0)"
   ]
  },
  {
   "cell_type": "code",
   "execution_count": 51,
   "metadata": {},
   "outputs": [
    {
     "data": {
      "image/png": "[encoded data removed]",
      "text/plain": [
       "<Figure size 360x360 with 1 Axes>"
      ]
     },
     "metadata": {
      "needs_background": "light"
     },
     "output_type": "display_data"
    },
    {
     "data": {
      "image/png": "[encoded data removed]",
      "text/plain": [
       "<Figure size 360x360 with 1 Axes>"
      ]
     },
     "metadata": {
      "needs_background": "light"
     },
     "output_type": "display_data"
    },
    {
     "data": {
      "image/png": "[encoded data removed]",
      "text/plain": [
       "<Figure size 360x360 with 1 Axes>"
      ]
     },
     "metadata": {
      "needs_background": "light"
     },
     "output_type": "display_data"
    },
    {
     "data": {
      "image/png": "[encoded data removed]",
      "text/plain": [
       "<Figure size 360x360 with 1 Axes>"
      ]
     },
     "metadata": {
      "needs_background": "light"
     },
     "output_type": "display_data"
    }
   ],
   "source": [
    "g = sns.factorplot(y='Survived',x='Single',data=df,kind='bar')\n",
    "g = sns.factorplot(y='Survived',x='SmallF',data=df,kind='bar')\n",
    "g = sns.factorplot(y='Survived',x='MediumF',data=df,kind='bar')\n",
    "g = sns.factorplot(y='Survived',x='LargeF',data=df,kind='bar')"
   ]
  },
  {
   "cell_type": "code",
   "execution_count": 52,
   "metadata": {},
   "outputs": [],
   "source": [
    "df = pd.get_dummies(df,columns=['Title'])"
   ]
  },
  {
   "cell_type": "code",
   "execution_count": 53,
   "metadata": {},
   "outputs": [
    {
     "data": {
      "text/html": [
       "<div>\n",
       "<style scoped>\n",
       "    .dataframe tbody tr th:only-of-type {\n",
       "        vertical-align: middle;\n",
       "    }\n",
       "\n",
       "    .dataframe tbody tr th {\n",
       "        vertical-align: top;\n",
       "    }\n",
       "\n",
       "    .dataframe thead th {\n",
       "        text-align: right;\n",
       "    }\n",
       "</style>\n",
       "<table border=\"1\" class=\"dataframe\">\n",
       "  <thead>\n",
       "    <tr style=\"text-align: right;\">\n",
       "      <th></th>\n",
       "      <th>PassengerId</th>\n",
       "      <th>Survived</th>\n",
       "      <th>Pclass</th>\n",
       "      <th>Name</th>\n",
       "      <th>Sex</th>\n",
       "      <th>Age</th>\n",
       "      <th>SibSp</th>\n",
       "      <th>Parch</th>\n",
       "      <th>Ticket</th>\n",
       "      <th>Fare</th>\n",
       "      <th>...</th>\n",
       "      <th>Embarked</th>\n",
       "      <th>Fsize</th>\n",
       "      <th>Single</th>\n",
       "      <th>SmallF</th>\n",
       "      <th>MediumF</th>\n",
       "      <th>LargeF</th>\n",
       "      <th>Title_0</th>\n",
       "      <th>Title_1</th>\n",
       "      <th>Title_2</th>\n",
       "      <th>Title_3</th>\n",
       "    </tr>\n",
       "  </thead>\n",
       "  <tbody>\n",
       "    <tr>\n",
       "      <th>0</th>\n",
       "      <td>1</td>\n",
       "      <td>0.0</td>\n",
       "      <td>3</td>\n",
       "      <td>Braund, Mr. Owen Harris</td>\n",
       "      <td>male</td>\n",
       "      <td>22.0</td>\n",
       "      <td>1</td>\n",
       "      <td>0</td>\n",
       "      <td>A/5 21171</td>\n",
       "      <td>1.981001</td>\n",
       "      <td>...</td>\n",
       "      <td>S</td>\n",
       "      <td>2</td>\n",
       "      <td>0</td>\n",
       "      <td>1</td>\n",
       "      <td>0</td>\n",
       "      <td>0</td>\n",
       "      <td>1</td>\n",
       "      <td>0</td>\n",
       "      <td>0</td>\n",
       "      <td>0</td>\n",
       "    </tr>\n",
       "    <tr>\n",
       "      <th>1</th>\n",
       "      <td>2</td>\n",
       "      <td>1.0</td>\n",
       "      <td>1</td>\n",
       "      <td>Cumings, Mrs. John Bradley (Florence Briggs Th...</td>\n",
       "      <td>female</td>\n",
       "      <td>38.0</td>\n",
       "      <td>1</td>\n",
       "      <td>0</td>\n",
       "      <td>PC 17599</td>\n",
       "      <td>4.266662</td>\n",
       "      <td>...</td>\n",
       "      <td>C</td>\n",
       "      <td>2</td>\n",
       "      <td>0</td>\n",
       "      <td>1</td>\n",
       "      <td>0</td>\n",
       "      <td>0</td>\n",
       "      <td>0</td>\n",
       "      <td>1</td>\n",
       "      <td>0</td>\n",
       "      <td>0</td>\n",
       "    </tr>\n",
       "    <tr>\n",
       "      <th>2</th>\n",
       "      <td>3</td>\n",
       "      <td>1.0</td>\n",
       "      <td>3</td>\n",
       "      <td>Heikkinen, Miss. Laina</td>\n",
       "      <td>female</td>\n",
       "      <td>26.0</td>\n",
       "      <td>0</td>\n",
       "      <td>0</td>\n",
       "      <td>STON/O2. 3101282</td>\n",
       "      <td>2.070022</td>\n",
       "      <td>...</td>\n",
       "      <td>S</td>\n",
       "      <td>1</td>\n",
       "      <td>1</td>\n",
       "      <td>0</td>\n",
       "      <td>0</td>\n",
       "      <td>0</td>\n",
       "      <td>0</td>\n",
       "      <td>1</td>\n",
       "      <td>0</td>\n",
       "      <td>0</td>\n",
       "    </tr>\n",
       "    <tr>\n",
       "      <th>3</th>\n",
       "      <td>4</td>\n",
       "      <td>1.0</td>\n",
       "      <td>1</td>\n",
       "      <td>Futrelle, Mrs. Jacques Heath (Lily May Peel)</td>\n",
       "      <td>female</td>\n",
       "      <td>35.0</td>\n",
       "      <td>1</td>\n",
       "      <td>0</td>\n",
       "      <td>113803</td>\n",
       "      <td>3.972177</td>\n",
       "      <td>...</td>\n",
       "      <td>S</td>\n",
       "      <td>2</td>\n",
       "      <td>0</td>\n",
       "      <td>1</td>\n",
       "      <td>0</td>\n",
       "      <td>0</td>\n",
       "      <td>0</td>\n",
       "      <td>1</td>\n",
       "      <td>0</td>\n",
       "      <td>0</td>\n",
       "    </tr>\n",
       "    <tr>\n",
       "      <th>4</th>\n",
       "      <td>5</td>\n",
       "      <td>0.0</td>\n",
       "      <td>3</td>\n",
       "      <td>Allen, Mr. William Henry</td>\n",
       "      <td>male</td>\n",
       "      <td>35.0</td>\n",
       "      <td>0</td>\n",
       "      <td>0</td>\n",
       "      <td>373450</td>\n",
       "      <td>2.085672</td>\n",
       "      <td>...</td>\n",
       "      <td>S</td>\n",
       "      <td>1</td>\n",
       "      <td>1</td>\n",
       "      <td>0</td>\n",
       "      <td>0</td>\n",
       "      <td>0</td>\n",
       "      <td>1</td>\n",
       "      <td>0</td>\n",
       "      <td>0</td>\n",
       "      <td>0</td>\n",
       "    </tr>\n",
       "  </tbody>\n",
       "</table>\n",
       "<p>5 rows × 21 columns</p>\n",
       "</div>"
      ],
      "text/plain": [
       "   PassengerId  Survived  Pclass  \\\n",
       "0            1       0.0       3   \n",
       "1            2       1.0       1   \n",
       "2            3       1.0       3   \n",
       "3            4       1.0       1   \n",
       "4            5       0.0       3   \n",
       "\n",
       "                                                Name     Sex   Age  SibSp  \\\n",
       "0                            Braund, Mr. Owen Harris    male  22.0      1   \n",
       "1  Cumings, Mrs. John Bradley (Florence Briggs Th...  female  38.0      1   \n",
       "2                             Heikkinen, Miss. Laina  female  26.0      0   \n",
       "3       Futrelle, Mrs. Jacques Heath (Lily May Peel)  female  35.0      1   \n",
       "4                           Allen, Mr. William Henry    male  35.0      0   \n",
       "\n",
       "   Parch            Ticket      Fare  ... Embarked Fsize  Single  SmallF  \\\n",
       "0      0         A/5 21171  1.981001  ...        S     2       0       1   \n",
       "1      0          PC 17599  4.266662  ...        C     2       0       1   \n",
       "2      0  STON/O2. 3101282  2.070022  ...        S     1       1       0   \n",
       "3      0            113803  3.972177  ...        S     2       0       1   \n",
       "4      0            373450  2.085672  ...        S     1       1       0   \n",
       "\n",
       "   MediumF  LargeF  Title_0  Title_1  Title_2  Title_3  \n",
       "0        0       0        1        0        0        0  \n",
       "1        0       0        0        1        0        0  \n",
       "2        0       0        0        1        0        0  \n",
       "3        0       0        0        1        0        0  \n",
       "4        0       0        1        0        0        0  \n",
       "\n",
       "[5 rows x 21 columns]"
      ]
     },
     "execution_count": 53,
     "metadata": {},
     "output_type": "execute_result"
    }
   ],
   "source": [
    "df.head()"
   ]
  },
  {
   "cell_type": "markdown",
   "metadata": {},
   "source": [
    "##### Encoding"
   ]
  },
  {
   "cell_type": "markdown",
   "metadata": {},
   "source": [
    "* **Label Encoding**\n",
    "    * It can turn [Dog,Cat,Dog,Dog,Cat,Dog,Mouse,Mouse] into [1,2,1,1,2,1,3,3]\n",
    "    * If it would have been ordinal, then average of dog and mouse would've been a cat.\n",
    "    * **_Advantages_**\n",
    "        * uses less disk space\n",
    "    * applied when categorical features are ordinal\n",
    "    * categorical variables in dataset is huge\n",
    "    \n",
    "* **One Hot Encoding**\n",
    "    * It will turn one categorical feature e.g. Title = Mr Mrs Master Rare into columns Title_Mr, Title_Master, Title_Mrs, Title_Rare.\n",
    "    * Apply when categorical feature is not ordinal."
   ]
  },
  {
   "cell_type": "markdown",
   "metadata": {},
   "source": [
    "#### Cabin"
   ]
  },
  {
   "cell_type": "code",
   "execution_count": 54,
   "metadata": {},
   "outputs": [
    {
     "data": {
      "text/plain": [
       "0      NaN\n",
       "1      C85\n",
       "2      NaN\n",
       "3     C123\n",
       "4      NaN\n",
       "5      NaN\n",
       "6      E46\n",
       "7      NaN\n",
       "8      NaN\n",
       "9      NaN\n",
       "10      G6\n",
       "11    C103\n",
       "12     NaN\n",
       "13     NaN\n",
       "14     NaN\n",
       "15     NaN\n",
       "16     NaN\n",
       "17     NaN\n",
       "18     NaN\n",
       "19     NaN\n",
       "Name: Cabin, dtype: object"
      ]
     },
     "execution_count": 54,
     "metadata": {},
     "output_type": "execute_result"
    }
   ],
   "source": [
    "df['Cabin'].head(20)"
   ]
  },
  {
   "cell_type": "code",
   "execution_count": 55,
   "metadata": {},
   "outputs": [],
   "source": [
    "df['Cabin'] = pd.Series(i[0] if not pd.isnull(i) else 'X' for i in df['Cabin'])"
   ]
  },
  {
   "cell_type": "code",
   "execution_count": 56,
   "metadata": {},
   "outputs": [
    {
     "data": {
      "text/plain": [
       "0     X\n",
       "1     C\n",
       "2     X\n",
       "3     C\n",
       "4     X\n",
       "5     X\n",
       "6     E\n",
       "7     X\n",
       "8     X\n",
       "9     X\n",
       "10    G\n",
       "11    C\n",
       "12    X\n",
       "13    X\n",
       "14    X\n",
       "15    X\n",
       "16    X\n",
       "17    X\n",
       "18    X\n",
       "19    X\n",
       "Name: Cabin, dtype: object"
      ]
     },
     "execution_count": 56,
     "metadata": {},
     "output_type": "execute_result"
    }
   ],
   "source": [
    "df['Cabin'].head(20)"
   ]
  },
  {
   "cell_type": "code",
   "execution_count": 57,
   "metadata": {},
   "outputs": [
    {
     "data": {
      "text/plain": [
       "X    1007\n",
       "C      91\n",
       "B      65\n",
       "D      46\n",
       "E      41\n",
       "A      22\n",
       "F      21\n",
       "G       5\n",
       "T       1\n",
       "Name: Cabin, dtype: int64"
      ]
     },
     "execution_count": 57,
     "metadata": {},
     "output_type": "execute_result"
    }
   ],
   "source": [
    "df['Cabin'].value_counts()"
   ]
  },
  {
   "cell_type": "code",
   "execution_count": 58,
   "metadata": {},
   "outputs": [
    {
     "data": {
      "image/png": "[encoded data removed]",
      "text/plain": [
       "<Figure size 432x288 with 1 Axes>"
      ]
     },
     "metadata": {
      "needs_background": "light"
     },
     "output_type": "display_data"
    }
   ],
   "source": [
    "g = sns.countplot(df['Cabin'],order='A B C D E F G T X'.split())"
   ]
  },
  {
   "cell_type": "code",
   "execution_count": 59,
   "metadata": {},
   "outputs": [
    {
     "data": {
      "image/png": "[encoded data removed]",
      "text/plain": [
       "<Figure size 432x432 with 1 Axes>"
      ]
     },
     "metadata": {
      "needs_background": "light"
     },
     "output_type": "display_data"
    }
   ],
   "source": [
    "g = sns.factorplot(x='Cabin',\n",
    "                   y='Survived',\n",
    "                   data=df,\n",
    "                   kind='bar',\n",
    "                   palette='muted',\n",
    "                   size=6,\n",
    "                   order='A B C D E F G T X'.split())\n",
    "g = g.set_ylabels('Survival Probability')"
   ]
  },
  {
   "cell_type": "code",
   "execution_count": 60,
   "metadata": {},
   "outputs": [
    {
     "data": {
      "image/png": "[encoded data removed]",
      "text/plain": [
       "<Figure size 432x432 with 1 Axes>"
      ]
     },
     "metadata": {
      "needs_background": "light"
     },
     "output_type": "display_data"
    }
   ],
   "source": [
    "g = sns.factorplot(x='Cabin',\n",
    "                   y='Pclass',\n",
    "                   data=df,\n",
    "                   kind='bar',\n",
    "                   palette='muted',\n",
    "                   size=6,\n",
    "                   order='A B C D E F G T X'.split())\n",
    "#g = g.set_ylabels('Survival Probability')"
   ]
  },
  {
   "cell_type": "code",
   "execution_count": 61,
   "metadata": {},
   "outputs": [],
   "source": [
    "df = pd.get_dummies(df,columns=['Cabin'],prefix=\"Cabin\")"
   ]
  },
  {
   "cell_type": "code",
   "execution_count": 62,
   "metadata": {},
   "outputs": [
    {
     "data": {
      "text/plain": [
       "Index(['PassengerId', 'Survived', 'Pclass', 'Name', 'Sex', 'Age', 'SibSp',\n",
       "       'Parch', 'Ticket', 'Fare', 'Embarked', 'Fsize', 'Single', 'SmallF',\n",
       "       'MediumF', 'LargeF', 'Title_0', 'Title_1', 'Title_2', 'Title_3',\n",
       "       'Cabin_A', 'Cabin_B', 'Cabin_C', 'Cabin_D', 'Cabin_E', 'Cabin_F',\n",
       "       'Cabin_G', 'Cabin_T', 'Cabin_X'],\n",
       "      dtype='object')"
      ]
     },
     "execution_count": 62,
     "metadata": {},
     "output_type": "execute_result"
    }
   ],
   "source": [
    "df.columns"
   ]
  },
  {
   "cell_type": "code",
   "execution_count": 63,
   "metadata": {},
   "outputs": [],
   "source": [
    "df.drop('Ticket',inplace=True,axis=1)"
   ]
  },
  {
   "cell_type": "code",
   "execution_count": 64,
   "metadata": {},
   "outputs": [],
   "source": [
    "df['Sex']=df['Sex'].map({'male':0,'female':1})"
   ]
  },
  {
   "cell_type": "code",
   "execution_count": 65,
   "metadata": {},
   "outputs": [],
   "source": [
    "df.drop('Name',inplace=True,axis=1)"
   ]
  },
  {
   "cell_type": "code",
   "execution_count": 66,
   "metadata": {},
   "outputs": [
    {
     "data": {
      "text/plain": [
       "Index(['PassengerId', 'Survived', 'Pclass', 'Sex', 'Age', 'SibSp', 'Parch',\n",
       "       'Fare', 'Embarked', 'Fsize', 'Single', 'SmallF', 'MediumF', 'LargeF',\n",
       "       'Title_0', 'Title_1', 'Title_2', 'Title_3', 'Cabin_A', 'Cabin_B',\n",
       "       'Cabin_C', 'Cabin_D', 'Cabin_E', 'Cabin_F', 'Cabin_G', 'Cabin_T',\n",
       "       'Cabin_X'],\n",
       "      dtype='object')"
      ]
     },
     "execution_count": 66,
     "metadata": {},
     "output_type": "execute_result"
    }
   ],
   "source": [
    "df.columns"
   ]
  },
  {
   "cell_type": "code",
   "execution_count": 67,
   "metadata": {},
   "outputs": [],
   "source": [
    "df.drop('Fsize',inplace=True,axis=1)"
   ]
  },
  {
   "cell_type": "code",
   "execution_count": 68,
   "metadata": {},
   "outputs": [],
   "source": [
    "df = pd.get_dummies(df,columns=['Embarked'],prefix=\"Embarked\")"
   ]
  },
  {
   "cell_type": "code",
   "execution_count": 69,
   "metadata": {},
   "outputs": [
    {
     "data": {
      "text/plain": [
       "Index(['PassengerId', 'Survived', 'Pclass', 'Sex', 'Age', 'SibSp', 'Parch',\n",
       "       'Fare', 'Single', 'SmallF', 'MediumF', 'LargeF', 'Title_0', 'Title_1',\n",
       "       'Title_2', 'Title_3', 'Cabin_A', 'Cabin_B', 'Cabin_C', 'Cabin_D',\n",
       "       'Cabin_E', 'Cabin_F', 'Cabin_G', 'Cabin_T', 'Cabin_X', 'Embarked_C',\n",
       "       'Embarked_Q', 'Embarked_S'],\n",
       "      dtype='object')"
      ]
     },
     "execution_count": 69,
     "metadata": {},
     "output_type": "execute_result"
    }
   ],
   "source": [
    "df.columns"
   ]
  },
  {
   "cell_type": "code",
   "execution_count": 70,
   "metadata": {},
   "outputs": [],
   "source": [
    "df.drop('SibSp',inplace=True,axis=1)\n",
    "df.drop('Parch',inplace=True,axis=1)"
   ]
  },
  {
   "cell_type": "code",
   "execution_count": 71,
   "metadata": {},
   "outputs": [
    {
     "data": {
      "text/plain": [
       "Index(['PassengerId', 'Survived', 'Pclass', 'Sex', 'Age', 'Fare', 'Single',\n",
       "       'SmallF', 'MediumF', 'LargeF', 'Title_0', 'Title_1', 'Title_2',\n",
       "       'Title_3', 'Cabin_A', 'Cabin_B', 'Cabin_C', 'Cabin_D', 'Cabin_E',\n",
       "       'Cabin_F', 'Cabin_G', 'Cabin_T', 'Cabin_X', 'Embarked_C', 'Embarked_Q',\n",
       "       'Embarked_S'],\n",
       "      dtype='object')"
      ]
     },
     "execution_count": 71,
     "metadata": {},
     "output_type": "execute_result"
    }
   ],
   "source": [
    "df.columns"
   ]
  },
  {
   "cell_type": "code",
   "execution_count": 72,
   "metadata": {},
   "outputs": [
    {
     "name": "stdout",
     "output_type": "stream",
     "text": [
      "<class 'pandas.core.frame.DataFrame'>\n",
      "RangeIndex: 1299 entries, 0 to 1298\n",
      "Data columns (total 26 columns):\n",
      " #   Column       Non-Null Count  Dtype  \n",
      "---  ------       --------------  -----  \n",
      " 0   PassengerId  1299 non-null   int64  \n",
      " 1   Survived     881 non-null    float64\n",
      " 2   Pclass       1299 non-null   int64  \n",
      " 3   Sex          1299 non-null   int64  \n",
      " 4   Age          1299 non-null   float64\n",
      " 5   Fare         1299 non-null   float64\n",
      " 6   Single       1299 non-null   int64  \n",
      " 7   SmallF       1299 non-null   int64  \n",
      " 8   MediumF      1299 non-null   int64  \n",
      " 9   LargeF       1299 non-null   int64  \n",
      " 10  Title_0      1299 non-null   uint8  \n",
      " 11  Title_1      1299 non-null   uint8  \n",
      " 12  Title_2      1299 non-null   uint8  \n",
      " 13  Title_3      1299 non-null   uint8  \n",
      " 14  Cabin_A      1299 non-null   uint8  \n",
      " 15  Cabin_B      1299 non-null   uint8  \n",
      " 16  Cabin_C      1299 non-null   uint8  \n",
      " 17  Cabin_D      1299 non-null   uint8  \n",
      " 18  Cabin_E      1299 non-null   uint8  \n",
      " 19  Cabin_F      1299 non-null   uint8  \n",
      " 20  Cabin_G      1299 non-null   uint8  \n",
      " 21  Cabin_T      1299 non-null   uint8  \n",
      " 22  Cabin_X      1299 non-null   uint8  \n",
      " 23  Embarked_C   1299 non-null   uint8  \n",
      " 24  Embarked_Q   1299 non-null   uint8  \n",
      " 25  Embarked_S   1299 non-null   uint8  \n",
      "dtypes: float64(3), int64(7), uint8(16)\n",
      "memory usage: 121.9 KB\n"
     ]
    }
   ],
   "source": [
    "df.info()"
   ]
  },
  {
   "cell_type": "markdown",
   "metadata": {},
   "source": [
    "#### Modeling"
   ]
  },
  {
   "cell_type": "code",
   "execution_count": 73,
   "metadata": {},
   "outputs": [],
   "source": [
    "train = df[:train_len]\n",
    "test = df[train_len:]"
   ]
  },
  {
   "cell_type": "code",
   "execution_count": 74,
   "metadata": {},
   "outputs": [],
   "source": [
    "test.drop('Survived',axis=1,inplace=True)"
   ]
  },
  {
   "cell_type": "code",
   "execution_count": 75,
   "metadata": {},
   "outputs": [],
   "source": [
    "train['Survived'] = train['Survived'].astype(int)"
   ]
  },
  {
   "cell_type": "code",
   "execution_count": 76,
   "metadata": {},
   "outputs": [],
   "source": [
    "X_train = train.drop('Survived',axis=1)\n",
    "y_train = train['Survived']"
   ]
  },
  {
   "cell_type": "code",
   "execution_count": 77,
   "metadata": {},
   "outputs": [
    {
     "data": {
      "text/plain": [
       "(881, 25)"
      ]
     },
     "execution_count": 77,
     "metadata": {},
     "output_type": "execute_result"
    }
   ],
   "source": [
    "X_train.shape"
   ]
  },
  {
   "cell_type": "code",
   "execution_count": 78,
   "metadata": {},
   "outputs": [],
   "source": [
    "from sklearn.model_selection import StratifiedKFold,GridSearchCV,cross_val_score\n",
    "\n",
    "kfold = StratifiedKFold(n_splits=10)"
   ]
  },
  {
   "cell_type": "code",
   "execution_count": 79,
   "metadata": {},
   "outputs": [],
   "source": [
    "from sklearn.svm import SVC\n",
    "\n",
    "random_state = 42\n",
    "\n",
    "classifiers=[]\n",
    "\n",
    "classifiers.append(SVC(random_state=random_state))\n",
    "\n",
    "classifiers.append(RandomForestClassifier(random_state=random_state))"
   ]
  },
  {
   "cell_type": "code",
   "execution_count": 80,
   "metadata": {},
   "outputs": [
    {
     "data": {
      "text/plain": [
       "[SVC(random_state=42), RandomForestClassifier(random_state=42)]"
      ]
     },
     "execution_count": 80,
     "metadata": {},
     "output_type": "execute_result"
    }
   ],
   "source": [
    "classifiers"
   ]
  },
  {
   "cell_type": "code",
   "execution_count": 81,
   "metadata": {},
   "outputs": [],
   "source": [
    "cv_results = []\n",
    "\n",
    "for classifier in classifiers:\n",
    "    cv_results.append(cross_val_score(classifier,\n",
    "                                      X=X_train,\n",
    "                                      y=y_train,\n",
    "                                      scoring='accuracy',\n",
    "                                      n_jobs=4))"
   ]
  },
  {
   "cell_type": "code",
   "execution_count": 82,
   "metadata": {},
   "outputs": [
    {
     "data": {
      "text/plain": [
       "[array([0.61581921, 0.61363636, 0.61363636, 0.61363636, 0.61363636]),\n",
       " array([0.76836158, 0.79545455, 0.83522727, 0.78977273, 0.85227273])]"
      ]
     },
     "execution_count": 82,
     "metadata": {},
     "output_type": "execute_result"
    }
   ],
   "source": [
    "cv_results"
   ]
  },
  {
   "cell_type": "code",
   "execution_count": 83,
   "metadata": {},
   "outputs": [],
   "source": [
    "cv_means=[]\n",
    "cv_std = []\n",
    "\n",
    "for cv_result in cv_results:\n",
    "    cv_means.append(cv_result.mean())\n",
    "    cv_std.append(cv_result.std())"
   ]
  },
  {
   "cell_type": "code",
   "execution_count": 84,
   "metadata": {},
   "outputs": [],
   "source": [
    "df1 = pd.DataFrame({'Cross Val Means':cv_means,'Cross Val Std':cv_std,'Algos':['svc','DecisionTree']})"
   ]
  },
  {
   "cell_type": "code",
   "execution_count": 85,
   "metadata": {},
   "outputs": [
    {
     "data": {
      "text/html": [
       "<div>\n",
       "<style scoped>\n",
       "    .dataframe tbody tr th:only-of-type {\n",
       "        vertical-align: middle;\n",
       "    }\n",
       "\n",
       "    .dataframe tbody tr th {\n",
       "        vertical-align: top;\n",
       "    }\n",
       "\n",
       "    .dataframe thead th {\n",
       "        text-align: right;\n",
       "    }\n",
       "</style>\n",
       "<table border=\"1\" class=\"dataframe\">\n",
       "  <thead>\n",
       "    <tr style=\"text-align: right;\">\n",
       "      <th></th>\n",
       "      <th>Cross Val Means</th>\n",
       "      <th>Cross Val Std</th>\n",
       "      <th>Algos</th>\n",
       "    </tr>\n",
       "  </thead>\n",
       "  <tbody>\n",
       "    <tr>\n",
       "      <th>0</th>\n",
       "      <td>0.614073</td>\n",
       "      <td>0.000873</td>\n",
       "      <td>svc</td>\n",
       "    </tr>\n",
       "    <tr>\n",
       "      <th>1</th>\n",
       "      <td>0.808218</td>\n",
       "      <td>0.030861</td>\n",
       "      <td>DecisionTree</td>\n",
       "    </tr>\n",
       "  </tbody>\n",
       "</table>\n",
       "</div>"
      ],
      "text/plain": [
       "   Cross Val Means  Cross Val Std         Algos\n",
       "0         0.614073       0.000873           svc\n",
       "1         0.808218       0.030861  DecisionTree"
      ]
     },
     "execution_count": 85,
     "metadata": {},
     "output_type": "execute_result"
    }
   ],
   "source": [
    "df1"
   ]
  },
  {
   "cell_type": "markdown",
   "metadata": {},
   "source": [
    "#### Ensemble"
   ]
  },
  {
   "cell_type": "code",
   "execution_count": 87,
   "metadata": {},
   "outputs": [
    {
     "name": "stdout",
     "output_type": "stream",
     "text": [
      "Fitting 10 folds for each of 8 candidates, totalling 80 fits\n",
      "[CV] base_estimator__splitter=best, learning_rate=0.001, n_estimators=1 \n",
      "[CV]  base_estimator__splitter=best, learning_rate=0.001, n_estimators=1, score=0.494, total=   0.0s\n",
      "[CV] base_estimator__splitter=best, learning_rate=0.001, n_estimators=1 \n",
      "[CV]  base_estimator__splitter=best, learning_rate=0.001, n_estimators=1, score=0.807, total=   0.0s\n",
      "[CV] base_estimator__splitter=best, learning_rate=0.001, n_estimators=1 \n",
      "[CV]  base_estimator__splitter=best, learning_rate=0.001, n_estimators=1, score=0.705, total=   0.0s\n",
      "[CV] base_estimator__splitter=best, learning_rate=0.001, n_estimators=1 \n",
      "[CV]  base_estimator__splitter=best, learning_rate=0.001, n_estimators=1, score=0.648, total=   0.0s\n",
      "[CV] base_estimator__splitter=best, learning_rate=0.001, n_estimators=1 \n",
      "[CV]  base_estimator__splitter=best, learning_rate=0.001, n_estimators=1, score=0.636, total=   0.0s\n",
      "[CV] base_estimator__splitter=best, learning_rate=0.001, n_estimators=1 \n",
      "[CV]  base_estimator__splitter=best, learning_rate=0.001, n_estimators=1, score=0.784, total=   0.0s\n",
      "[CV] base_estimator__splitter=best, learning_rate=0.001, n_estimators=1 \n",
      "[CV]  base_estimator__splitter=best, learning_rate=0.001, n_estimators=1, score=0.818, total=   0.0s\n",
      "[CV] base_estimator__splitter=best, learning_rate=0.001, n_estimators=1 \n",
      "[CV]  base_estimator__splitter=best, learning_rate=0.001, n_estimators=1, score=0.739, total=   0.0s\n",
      "[CV] base_estimator__splitter=best, learning_rate=0.001, n_estimators=1 \n",
      "[CV]  base_estimator__splitter=best, learning_rate=0.001, n_estimators=1, score=0.750, total=   0.0s\n",
      "[CV] base_estimator__splitter=best, learning_rate=0.001, n_estimators=1 \n",
      "[CV]  base_estimator__splitter=best, learning_rate=0.001, n_estimators=1, score=0.818, total=   0.0s\n",
      "[CV] base_estimator__splitter=best, learning_rate=0.001, n_estimators=2 \n",
      "[CV]  base_estimator__splitter=best, learning_rate=0.001, n_estimators=2, score=0.494, total=   0.0s\n",
      "[CV] base_estimator__splitter=best, learning_rate=0.001, n_estimators=2 \n",
      "[CV]  base_estimator__splitter=best, learning_rate=0.001, n_estimators=2, score=0.807, total=   0.0s\n",
      "[CV] base_estimator__splitter=best, learning_rate=0.001, n_estimators=2 \n",
      "[CV]  base_estimator__splitter=best, learning_rate=0.001, n_estimators=2, score=0.705, total=   0.0s\n",
      "[CV] base_estimator__splitter=best, learning_rate=0.001, n_estimators=2 \n",
      "[CV]  base_estimator__splitter=best, learning_rate=0.001, n_estimators=2, score=0.648, total=   0.0s\n",
      "[CV] base_estimator__splitter=best, learning_rate=0.001, n_estimators=2 \n",
      "[CV]  base_estimator__splitter=best, learning_rate=0.001, n_estimators=2, score=0.636, total=   0.0s\n",
      "[CV] base_estimator__splitter=best, learning_rate=0.001, n_estimators=2 \n",
      "[CV]  base_estimator__splitter=best, learning_rate=0.001, n_estimators=2, score=0.784, total=   0.0s\n",
      "[CV] base_estimator__splitter=best, learning_rate=0.001, n_estimators=2 \n",
      "[CV]  base_estimator__splitter=best, learning_rate=0.001, n_estimators=2, score=0.818, total=   0.0s\n",
      "[CV] base_estimator__splitter=best, learning_rate=0.001, n_estimators=2 \n"
     ]
    },
    {
     "name": "stderr",
     "output_type": "stream",
     "text": [
      "[Parallel(n_jobs=1)]: Using backend SequentialBackend with 1 concurrent workers.\n",
      "[Parallel(n_jobs=1)]: Done   1 out of   1 | elapsed:    0.0s remaining:    0.0s\n",
      "[Parallel(n_jobs=1)]: Done   2 out of   2 | elapsed:    0.0s remaining:    0.0s\n",
      "[Parallel(n_jobs=1)]: Done   3 out of   3 | elapsed:    0.0s remaining:    0.0s\n",
      "[Parallel(n_jobs=1)]: Done   4 out of   4 | elapsed:    0.1s remaining:    0.0s\n",
      "[Parallel(n_jobs=1)]: Done   5 out of   5 | elapsed:    0.1s remaining:    0.0s\n",
      "[Parallel(n_jobs=1)]: Done   6 out of   6 | elapsed:    0.1s remaining:    0.0s\n",
      "[Parallel(n_jobs=1)]: Done   7 out of   7 | elapsed:    0.1s remaining:    0.0s\n",
      "[Parallel(n_jobs=1)]: Done   8 out of   8 | elapsed:    0.1s remaining:    0.0s\n",
      "[Parallel(n_jobs=1)]: Done   9 out of   9 | elapsed:    0.1s remaining:    0.0s\n"
     ]
    },
    {
     "name": "stdout",
     "output_type": "stream",
     "text": [
      "[CV]  base_estimator__splitter=best, learning_rate=0.001, n_estimators=2, score=0.739, total=   0.0s\n",
      "[CV] base_estimator__splitter=best, learning_rate=0.001, n_estimators=2 \n",
      "[CV]  base_estimator__splitter=best, learning_rate=0.001, n_estimators=2, score=0.750, total=   0.0s\n",
      "[CV] base_estimator__splitter=best, learning_rate=0.001, n_estimators=2 \n",
      "[CV]  base_estimator__splitter=best, learning_rate=0.001, n_estimators=2, score=0.818, total=   0.0s\n",
      "[CV] base_estimator__splitter=best, learning_rate=0.01, n_estimators=1 \n",
      "[CV]  base_estimator__splitter=best, learning_rate=0.01, n_estimators=1, score=0.494, total=   0.0s\n",
      "[CV] base_estimator__splitter=best, learning_rate=0.01, n_estimators=1 \n",
      "[CV]  base_estimator__splitter=best, learning_rate=0.01, n_estimators=1, score=0.807, total=   0.0s\n",
      "[CV] base_estimator__splitter=best, learning_rate=0.01, n_estimators=1 \n",
      "[CV]  base_estimator__splitter=best, learning_rate=0.01, n_estimators=1, score=0.705, total=   0.0s\n",
      "[CV] base_estimator__splitter=best, learning_rate=0.01, n_estimators=1 \n",
      "[CV]  base_estimator__splitter=best, learning_rate=0.01, n_estimators=1, score=0.648, total=   0.0s\n",
      "[CV] base_estimator__splitter=best, learning_rate=0.01, n_estimators=1 \n",
      "[CV]  base_estimator__splitter=best, learning_rate=0.01, n_estimators=1, score=0.636, total=   0.0s\n",
      "[CV] base_estimator__splitter=best, learning_rate=0.01, n_estimators=1 \n",
      "[CV]  base_estimator__splitter=best, learning_rate=0.01, n_estimators=1, score=0.784, total=   0.0s\n",
      "[CV] base_estimator__splitter=best, learning_rate=0.01, n_estimators=1 \n",
      "[CV]  base_estimator__splitter=best, learning_rate=0.01, n_estimators=1, score=0.818, total=   0.0s\n",
      "[CV] base_estimator__splitter=best, learning_rate=0.01, n_estimators=1 \n",
      "[CV]  base_estimator__splitter=best, learning_rate=0.01, n_estimators=1, score=0.739, total=   0.0s\n",
      "[CV] base_estimator__splitter=best, learning_rate=0.01, n_estimators=1 \n",
      "[CV]  base_estimator__splitter=best, learning_rate=0.01, n_estimators=1, score=0.750, total=   0.0s\n",
      "[CV] base_estimator__splitter=best, learning_rate=0.01, n_estimators=1 \n",
      "[CV]  base_estimator__splitter=best, learning_rate=0.01, n_estimators=1, score=0.818, total=   0.0s\n",
      "[CV] base_estimator__splitter=best, learning_rate=0.01, n_estimators=2 \n",
      "[CV]  base_estimator__splitter=best, learning_rate=0.01, n_estimators=2, score=0.494, total=   0.0s\n",
      "[CV] base_estimator__splitter=best, learning_rate=0.01, n_estimators=2 \n",
      "[CV]  base_estimator__splitter=best, learning_rate=0.01, n_estimators=2, score=0.807, total=   0.0s\n",
      "[CV] base_estimator__splitter=best, learning_rate=0.01, n_estimators=2 \n",
      "[CV]  base_estimator__splitter=best, learning_rate=0.01, n_estimators=2, score=0.705, total=   0.0s\n",
      "[CV] base_estimator__splitter=best, learning_rate=0.01, n_estimators=2 \n",
      "[CV]  base_estimator__splitter=best, learning_rate=0.01, n_estimators=2, score=0.648, total=   0.0s\n",
      "[CV] base_estimator__splitter=best, learning_rate=0.01, n_estimators=2 \n",
      "[CV]  base_estimator__splitter=best, learning_rate=0.01, n_estimators=2, score=0.636, total=   0.0s\n",
      "[CV] base_estimator__splitter=best, learning_rate=0.01, n_estimators=2 \n",
      "[CV]  base_estimator__splitter=best, learning_rate=0.01, n_estimators=2, score=0.784, total=   0.0s\n",
      "[CV] base_estimator__splitter=best, learning_rate=0.01, n_estimators=2 \n",
      "[CV]  base_estimator__splitter=best, learning_rate=0.01, n_estimators=2, score=0.818, total=   0.0s\n",
      "[CV] base_estimator__splitter=best, learning_rate=0.01, n_estimators=2 \n",
      "[CV]  base_estimator__splitter=best, learning_rate=0.01, n_estimators=2, score=0.739, total=   0.0s\n",
      "[CV] base_estimator__splitter=best, learning_rate=0.01, n_estimators=2 \n",
      "[CV]  base_estimator__splitter=best, learning_rate=0.01, n_estimators=2, score=0.750, total=   0.0s\n",
      "[CV] base_estimator__splitter=best, learning_rate=0.01, n_estimators=2 \n",
      "[CV]  base_estimator__splitter=best, learning_rate=0.01, n_estimators=2, score=0.818, total=   0.0s\n",
      "[CV] base_estimator__splitter=best, learning_rate=0.1, n_estimators=1 \n",
      "[CV]  base_estimator__splitter=best, learning_rate=0.1, n_estimators=1, score=0.494, total=   0.0s\n",
      "[CV] base_estimator__splitter=best, learning_rate=0.1, n_estimators=1 \n",
      "[CV]  base_estimator__splitter=best, learning_rate=0.1, n_estimators=1, score=0.807, total=   0.0s\n",
      "[CV] base_estimator__splitter=best, learning_rate=0.1, n_estimators=1 \n",
      "[CV]  base_estimator__splitter=best, learning_rate=0.1, n_estimators=1, score=0.705, total=   0.0s\n",
      "[CV] base_estimator__splitter=best, learning_rate=0.1, n_estimators=1 \n",
      "[CV]  base_estimator__splitter=best, learning_rate=0.1, n_estimators=1, score=0.648, total=   0.0s\n",
      "[CV] base_estimator__splitter=best, learning_rate=0.1, n_estimators=1 \n",
      "[CV]  base_estimator__splitter=best, learning_rate=0.1, n_estimators=1, score=0.636, total=   0.0s\n",
      "[CV] base_estimator__splitter=best, learning_rate=0.1, n_estimators=1 \n",
      "[CV]  base_estimator__splitter=best, learning_rate=0.1, n_estimators=1, score=0.784, total=   0.0s\n",
      "[CV] base_estimator__splitter=best, learning_rate=0.1, n_estimators=1 \n",
      "[CV]  base_estimator__splitter=best, learning_rate=0.1, n_estimators=1, score=0.818, total=   0.0s\n",
      "[CV] base_estimator__splitter=best, learning_rate=0.1, n_estimators=1 \n",
      "[CV]  base_estimator__splitter=best, learning_rate=0.1, n_estimators=1, score=0.739, total=   0.0s\n",
      "[CV] base_estimator__splitter=best, learning_rate=0.1, n_estimators=1 \n",
      "[CV]  base_estimator__splitter=best, learning_rate=0.1, n_estimators=1, score=0.750, total=   0.0s\n",
      "[CV] base_estimator__splitter=best, learning_rate=0.1, n_estimators=1 \n",
      "[CV]  base_estimator__splitter=best, learning_rate=0.1, n_estimators=1, score=0.818, total=   0.0s\n",
      "[CV] base_estimator__splitter=best, learning_rate=0.1, n_estimators=2 \n",
      "[CV]  base_estimator__splitter=best, learning_rate=0.1, n_estimators=2, score=0.494, total=   0.0s\n",
      "[CV] base_estimator__splitter=best, learning_rate=0.1, n_estimators=2 \n",
      "[CV]  base_estimator__splitter=best, learning_rate=0.1, n_estimators=2, score=0.807, total=   0.0s\n",
      "[CV] base_estimator__splitter=best, learning_rate=0.1, n_estimators=2 \n",
      "[CV]  base_estimator__splitter=best, learning_rate=0.1, n_estimators=2, score=0.705, total=   0.0s\n",
      "[CV] base_estimator__splitter=best, learning_rate=0.1, n_estimators=2 \n",
      "[CV]  base_estimator__splitter=best, learning_rate=0.1, n_estimators=2, score=0.648, total=   0.0s\n",
      "[CV] base_estimator__splitter=best, learning_rate=0.1, n_estimators=2 \n",
      "[CV]  base_estimator__splitter=best, learning_rate=0.1, n_estimators=2, score=0.636, total=   0.0s\n",
      "[CV] base_estimator__splitter=best, learning_rate=0.1, n_estimators=2 \n",
      "[CV]  base_estimator__splitter=best, learning_rate=0.1, n_estimators=2, score=0.784, total=   0.0s\n",
      "[CV] base_estimator__splitter=best, learning_rate=0.1, n_estimators=2 \n",
      "[CV]  base_estimator__splitter=best, learning_rate=0.1, n_estimators=2, score=0.818, total=   0.0s\n",
      "[CV] base_estimator__splitter=best, learning_rate=0.1, n_estimators=2 \n",
      "[CV]  base_estimator__splitter=best, learning_rate=0.1, n_estimators=2, score=0.739, total=   0.0s\n",
      "[CV] base_estimator__splitter=best, learning_rate=0.1, n_estimators=2 \n",
      "[CV]  base_estimator__splitter=best, learning_rate=0.1, n_estimators=2, score=0.750, total=   0.0s\n",
      "[CV] base_estimator__splitter=best, learning_rate=0.1, n_estimators=2 \n",
      "[CV]  base_estimator__splitter=best, learning_rate=0.1, n_estimators=2, score=0.818, total=   0.0s\n",
      "[CV] base_estimator__splitter=best, learning_rate=1, n_estimators=1 ..\n",
      "[CV]  base_estimator__splitter=best, learning_rate=1, n_estimators=1, score=0.494, total=   0.0s\n",
      "[CV] base_estimator__splitter=best, learning_rate=1, n_estimators=1 ..\n",
      "[CV]  base_estimator__splitter=best, learning_rate=1, n_estimators=1, score=0.807, total=   0.0s\n",
      "[CV] base_estimator__splitter=best, learning_rate=1, n_estimators=1 ..\n",
      "[CV]  base_estimator__splitter=best, learning_rate=1, n_estimators=1, score=0.705, total=   0.0s\n",
      "[CV] base_estimator__splitter=best, learning_rate=1, n_estimators=1 ..\n",
      "[CV]  base_estimator__splitter=best, learning_rate=1, n_estimators=1, score=0.648, total=   0.0s\n",
      "[CV] base_estimator__splitter=best, learning_rate=1, n_estimators=1 ..\n",
      "[CV]  base_estimator__splitter=best, learning_rate=1, n_estimators=1, score=0.636, total=   0.0s\n",
      "[CV] base_estimator__splitter=best, learning_rate=1, n_estimators=1 ..\n",
      "[CV]  base_estimator__splitter=best, learning_rate=1, n_estimators=1, score=0.784, total=   0.0s\n",
      "[CV] base_estimator__splitter=best, learning_rate=1, n_estimators=1 ..\n",
      "[CV]  base_estimator__splitter=best, learning_rate=1, n_estimators=1, score=0.818, total=   0.0s\n",
      "[CV] base_estimator__splitter=best, learning_rate=1, n_estimators=1 ..\n",
      "[CV]  base_estimator__splitter=best, learning_rate=1, n_estimators=1, score=0.739, total=   0.0s\n",
      "[CV] base_estimator__splitter=best, learning_rate=1, n_estimators=1 ..\n",
      "[CV]  base_estimator__splitter=best, learning_rate=1, n_estimators=1, score=0.750, total=   0.0s\n",
      "[CV] base_estimator__splitter=best, learning_rate=1, n_estimators=1 ..\n",
      "[CV]  base_estimator__splitter=best, learning_rate=1, n_estimators=1, score=0.818, total=   0.0s\n",
      "[CV] base_estimator__splitter=best, learning_rate=1, n_estimators=2 ..\n",
      "[CV]  base_estimator__splitter=best, learning_rate=1, n_estimators=2, score=0.494, total=   0.0s\n",
      "[CV] base_estimator__splitter=best, learning_rate=1, n_estimators=2 ..\n",
      "[CV]  base_estimator__splitter=best, learning_rate=1, n_estimators=2, score=0.807, total=   0.0s\n",
      "[CV] base_estimator__splitter=best, learning_rate=1, n_estimators=2 ..\n",
      "[CV]  base_estimator__splitter=best, learning_rate=1, n_estimators=2, score=0.705, total=   0.0s\n",
      "[CV] base_estimator__splitter=best, learning_rate=1, n_estimators=2 ..\n",
      "[CV]  base_estimator__splitter=best, learning_rate=1, n_estimators=2, score=0.648, total=   0.0s\n",
      "[CV] base_estimator__splitter=best, learning_rate=1, n_estimators=2 ..\n",
      "[CV]  base_estimator__splitter=best, learning_rate=1, n_estimators=2, score=0.636, total=   0.0s\n",
      "[CV] base_estimator__splitter=best, learning_rate=1, n_estimators=2 ..\n",
      "[CV]  base_estimator__splitter=best, learning_rate=1, n_estimators=2, score=0.784, total=   0.0s\n",
      "[CV] base_estimator__splitter=best, learning_rate=1, n_estimators=2 ..\n",
      "[CV]  base_estimator__splitter=best, learning_rate=1, n_estimators=2, score=0.818, total=   0.0s\n",
      "[CV] base_estimator__splitter=best, learning_rate=1, n_estimators=2 ..\n",
      "[CV]  base_estimator__splitter=best, learning_rate=1, n_estimators=2, score=0.739, total=   0.0s\n",
      "[CV] base_estimator__splitter=best, learning_rate=1, n_estimators=2 ..\n",
      "[CV]  base_estimator__splitter=best, learning_rate=1, n_estimators=2, score=0.750, total=   0.0s\n",
      "[CV] base_estimator__splitter=best, learning_rate=1, n_estimators=2 ..\n",
      "[CV]  base_estimator__splitter=best, learning_rate=1, n_estimators=2, score=0.818, total=   0.0s\n"
     ]
    },
    {
     "name": "stderr",
     "output_type": "stream",
     "text": [
      "[Parallel(n_jobs=1)]: Done  80 out of  80 | elapsed:    0.8s finished\n"
     ]
    },
    {
     "data": {
      "text/plain": [
       "GridSearchCV(cv=StratifiedKFold(n_splits=10, random_state=None, shuffle=False),\n",
       "             estimator=AdaBoostClassifier(base_estimator=DecisionTreeClassifier(),\n",
       "                                          random_state=42),\n",
       "             param_grid={'base_estimator__splitter': ['best'],\n",
       "                         'learning_rate': [0.001, 0.01, 0.1, 1],\n",
       "                         'n_estimators': [1, 2]},\n",
       "             scoring='accuracy', verbose=10)"
      ]
     },
     "execution_count": 87,
     "metadata": {},
     "output_type": "execute_result"
    }
   ],
   "source": [
    "DTC = DecisionTreeClassifier()\n",
    "\n",
    "adaDTC = AdaBoostClassifier(DTC, random_state=random_state)\n",
    "\n",
    "param_grid = {'base_estimator__splitter':['best'],\n",
    "              'n_estimators':[1,2],\n",
    "              'learning_rate':[0.001,0.01,0.1,1]}\n",
    "\n",
    "gsAdaDTC = GridSearchCV(adaDTC,\n",
    "                        param_grid=param_grid,\n",
    "                        cv=kfold,\n",
    "                        scoring='accuracy',\n",
    "                        verbose=10)\n",
    "\n",
    "gsAdaDTC.fit(X_train,y_train)"
   ]
  },
  {
   "cell_type": "code",
   "execution_count": 93,
   "metadata": {},
   "outputs": [
    {
     "name": "stdout",
     "output_type": "stream",
     "text": [
      "Fitting 10 folds for each of 16 candidates, totalling 160 fits\n",
      "[CV] C=0.001, gamma=1, kernel=rbf ....................................\n",
      "[CV] ........ C=0.001, gamma=1, kernel=rbf, score=0.618, total=   0.0s\n",
      "[CV] C=0.001, gamma=1, kernel=rbf ....................................\n",
      "[CV] ........ C=0.001, gamma=1, kernel=rbf, score=0.614, total=   0.0s\n",
      "[CV] C=0.001, gamma=1, kernel=rbf ....................................\n",
      "[CV] ........ C=0.001, gamma=1, kernel=rbf, score=0.614, total=   0.0s\n",
      "[CV] C=0.001, gamma=1, kernel=rbf ....................................\n",
      "[CV] ........ C=0.001, gamma=1, kernel=rbf, score=0.614, total=   0.0s\n",
      "[CV] C=0.001, gamma=1, kernel=rbf ....................................\n",
      "[CV] ........ C=0.001, gamma=1, kernel=rbf, score=0.614, total=   0.0s\n",
      "[CV] C=0.001, gamma=1, kernel=rbf ....................................\n",
      "[CV] ........ C=0.001, gamma=1, kernel=rbf, score=0.614, total=   0.0s\n",
      "[CV] C=0.001, gamma=1, kernel=rbf ....................................\n",
      "[CV] ........ C=0.001, gamma=1, kernel=rbf, score=0.614, total=   0.0s\n",
      "[CV] C=0.001, gamma=1, kernel=rbf ....................................\n"
     ]
    },
    {
     "name": "stderr",
     "output_type": "stream",
     "text": [
      "[Parallel(n_jobs=1)]: Using backend SequentialBackend with 1 concurrent workers.\n",
      "[Parallel(n_jobs=1)]: Done   1 out of   1 | elapsed:    0.0s remaining:    0.0s\n",
      "[Parallel(n_jobs=1)]: Done   2 out of   2 | elapsed:    0.1s remaining:    0.0s\n",
      "[Parallel(n_jobs=1)]: Done   3 out of   3 | elapsed:    0.1s remaining:    0.0s\n",
      "[Parallel(n_jobs=1)]: Done   4 out of   4 | elapsed:    0.1s remaining:    0.0s\n",
      "[Parallel(n_jobs=1)]: Done   5 out of   5 | elapsed:    0.1s remaining:    0.0s\n",
      "[Parallel(n_jobs=1)]: Done   6 out of   6 | elapsed:    0.2s remaining:    0.0s\n",
      "[Parallel(n_jobs=1)]: Done   7 out of   7 | elapsed:    0.2s remaining:    0.0s\n"
     ]
    },
    {
     "name": "stdout",
     "output_type": "stream",
     "text": [
      "[CV] ........ C=0.001, gamma=1, kernel=rbf, score=0.614, total=   0.0s\n",
      "[CV] C=0.001, gamma=1, kernel=rbf ....................................\n",
      "[CV] ........ C=0.001, gamma=1, kernel=rbf, score=0.614, total=   0.0s\n",
      "[CV] C=0.001, gamma=1, kernel=rbf ....................................\n",
      "[CV] ........ C=0.001, gamma=1, kernel=rbf, score=0.614, total=   0.0s\n",
      "[CV] C=0.001, gamma=10, kernel=rbf ...................................\n",
      "[CV] ....... C=0.001, gamma=10, kernel=rbf, score=0.618, total=   0.0s\n",
      "[CV] C=0.001, gamma=10, kernel=rbf ...................................\n",
      "[CV] ....... C=0.001, gamma=10, kernel=rbf, score=0.614, total=   0.0s\n",
      "[CV] C=0.001, gamma=10, kernel=rbf ...................................\n",
      "[CV] ....... C=0.001, gamma=10, kernel=rbf, score=0.614, total=   0.0s\n",
      "[CV] C=0.001, gamma=10, kernel=rbf ...................................\n",
      "[CV] ....... C=0.001, gamma=10, kernel=rbf, score=0.614, total=   0.0s\n",
      "[CV] C=0.001, gamma=10, kernel=rbf ...................................\n",
      "[CV] ....... C=0.001, gamma=10, kernel=rbf, score=0.614, total=   0.0s\n",
      "[CV] C=0.001, gamma=10, kernel=rbf ...................................\n",
      "[CV] ....... C=0.001, gamma=10, kernel=rbf, score=0.614, total=   0.0s\n",
      "[CV] C=0.001, gamma=10, kernel=rbf ...................................\n"
     ]
    },
    {
     "name": "stderr",
     "output_type": "stream",
     "text": [
      "[Parallel(n_jobs=1)]: Done   8 out of   8 | elapsed:    0.2s remaining:    0.0s\n",
      "[Parallel(n_jobs=1)]: Done   9 out of   9 | elapsed:    0.2s remaining:    0.0s\n"
     ]
    },
    {
     "name": "stdout",
     "output_type": "stream",
     "text": [
      "[CV] ....... C=0.001, gamma=10, kernel=rbf, score=0.614, total=   0.0s\n",
      "[CV] C=0.001, gamma=10, kernel=rbf ...................................\n",
      "[CV] ....... C=0.001, gamma=10, kernel=rbf, score=0.614, total=   0.0s\n",
      "[CV] C=0.001, gamma=10, kernel=rbf ...................................\n",
      "[CV] ....... C=0.001, gamma=10, kernel=rbf, score=0.614, total=   0.0s\n",
      "[CV] C=0.001, gamma=10, kernel=rbf ...................................\n",
      "[CV] ....... C=0.001, gamma=10, kernel=rbf, score=0.614, total=   0.0s\n",
      "[CV] C=0.001, gamma=100, kernel=rbf ..................................\n",
      "[CV] ...... C=0.001, gamma=100, kernel=rbf, score=0.618, total=   0.0s\n",
      "[CV] C=0.001, gamma=100, kernel=rbf ..................................\n",
      "[CV] ...... C=0.001, gamma=100, kernel=rbf, score=0.614, total=   0.0s\n",
      "[CV] C=0.001, gamma=100, kernel=rbf ..................................\n",
      "[CV] ...... C=0.001, gamma=100, kernel=rbf, score=0.614, total=   0.0s\n",
      "[CV] C=0.001, gamma=100, kernel=rbf ..................................\n",
      "[CV] ...... C=0.001, gamma=100, kernel=rbf, score=0.614, total=   0.0s\n",
      "[CV] C=0.001, gamma=100, kernel=rbf ..................................\n",
      "[CV] ...... C=0.001, gamma=100, kernel=rbf, score=0.614, total=   0.0s\n",
      "[CV] C=0.001, gamma=100, kernel=rbf ..................................\n",
      "[CV] ...... C=0.001, gamma=100, kernel=rbf, score=0.614, total=   0.0s\n",
      "[CV] C=0.001, gamma=100, kernel=rbf ..................................\n",
      "[CV] ...... C=0.001, gamma=100, kernel=rbf, score=0.614, total=   0.0s\n",
      "[CV] C=0.001, gamma=100, kernel=rbf ..................................\n",
      "[CV] ...... C=0.001, gamma=100, kernel=rbf, score=0.614, total=   0.0s\n",
      "[CV] C=0.001, gamma=100, kernel=rbf ..................................\n",
      "[CV] ...... C=0.001, gamma=100, kernel=rbf, score=0.614, total=   0.0s\n",
      "[CV] C=0.001, gamma=100, kernel=rbf ..................................\n",
      "[CV] ...... C=0.001, gamma=100, kernel=rbf, score=0.614, total=   0.0s\n",
      "[CV] C=0.001, gamma=1000, kernel=rbf .................................\n",
      "[CV] ..... C=0.001, gamma=1000, kernel=rbf, score=0.618, total=   0.0s\n",
      "[CV] C=0.001, gamma=1000, kernel=rbf .................................\n",
      "[CV] ..... C=0.001, gamma=1000, kernel=rbf, score=0.614, total=   0.0s\n",
      "[CV] C=0.001, gamma=1000, kernel=rbf .................................\n",
      "[CV] ..... C=0.001, gamma=1000, kernel=rbf, score=0.614, total=   0.0s\n",
      "[CV] C=0.001, gamma=1000, kernel=rbf .................................\n",
      "[CV] ..... C=0.001, gamma=1000, kernel=rbf, score=0.614, total=   0.0s\n",
      "[CV] C=0.001, gamma=1000, kernel=rbf .................................\n",
      "[CV] ..... C=0.001, gamma=1000, kernel=rbf, score=0.614, total=   0.0s\n",
      "[CV] C=0.001, gamma=1000, kernel=rbf .................................\n",
      "[CV] ..... C=0.001, gamma=1000, kernel=rbf, score=0.614, total=   0.0s\n",
      "[CV] C=0.001, gamma=1000, kernel=rbf .................................\n",
      "[CV] ..... C=0.001, gamma=1000, kernel=rbf, score=0.614, total=   0.0s\n",
      "[CV] C=0.001, gamma=1000, kernel=rbf .................................\n",
      "[CV] ..... C=0.001, gamma=1000, kernel=rbf, score=0.614, total=   0.0s\n",
      "[CV] C=0.001, gamma=1000, kernel=rbf .................................\n",
      "[CV] ..... C=0.001, gamma=1000, kernel=rbf, score=0.614, total=   0.0s\n",
      "[CV] C=0.001, gamma=1000, kernel=rbf .................................\n",
      "[CV] ..... C=0.001, gamma=1000, kernel=rbf, score=0.614, total=   0.0s\n",
      "[CV] C=0.01, gamma=1, kernel=rbf .....................................\n",
      "[CV] ......... C=0.01, gamma=1, kernel=rbf, score=0.618, total=   0.0s\n",
      "[CV] C=0.01, gamma=1, kernel=rbf .....................................\n",
      "[CV] ......... C=0.01, gamma=1, kernel=rbf, score=0.614, total=   0.0s\n",
      "[CV] C=0.01, gamma=1, kernel=rbf .....................................\n",
      "[CV] ......... C=0.01, gamma=1, kernel=rbf, score=0.614, total=   0.0s\n",
      "[CV] C=0.01, gamma=1, kernel=rbf .....................................\n",
      "[CV] ......... C=0.01, gamma=1, kernel=rbf, score=0.614, total=   0.0s\n",
      "[CV] C=0.01, gamma=1, kernel=rbf .....................................\n",
      "[CV] ......... C=0.01, gamma=1, kernel=rbf, score=0.614, total=   0.0s\n",
      "[CV] C=0.01, gamma=1, kernel=rbf .....................................\n",
      "[CV] ......... C=0.01, gamma=1, kernel=rbf, score=0.614, total=   0.0s\n",
      "[CV] C=0.01, gamma=1, kernel=rbf .....................................\n",
      "[CV] ......... C=0.01, gamma=1, kernel=rbf, score=0.614, total=   0.0s\n",
      "[CV] C=0.01, gamma=1, kernel=rbf .....................................\n",
      "[CV] ......... C=0.01, gamma=1, kernel=rbf, score=0.614, total=   0.0s\n",
      "[CV] C=0.01, gamma=1, kernel=rbf .....................................\n",
      "[CV] ......... C=0.01, gamma=1, kernel=rbf, score=0.614, total=   0.0s\n",
      "[CV] C=0.01, gamma=1, kernel=rbf .....................................\n",
      "[CV] ......... C=0.01, gamma=1, kernel=rbf, score=0.614, total=   0.0s\n",
      "[CV] C=0.01, gamma=10, kernel=rbf ....................................\n",
      "[CV] ........ C=0.01, gamma=10, kernel=rbf, score=0.618, total=   0.0s\n",
      "[CV] C=0.01, gamma=10, kernel=rbf ....................................\n",
      "[CV] ........ C=0.01, gamma=10, kernel=rbf, score=0.614, total=   0.0s\n",
      "[CV] C=0.01, gamma=10, kernel=rbf ....................................\n",
      "[CV] ........ C=0.01, gamma=10, kernel=rbf, score=0.614, total=   0.0s\n",
      "[CV] C=0.01, gamma=10, kernel=rbf ....................................\n",
      "[CV] ........ C=0.01, gamma=10, kernel=rbf, score=0.614, total=   0.0s\n",
      "[CV] C=0.01, gamma=10, kernel=rbf ....................................\n",
      "[CV] ........ C=0.01, gamma=10, kernel=rbf, score=0.614, total=   0.0s\n",
      "[CV] C=0.01, gamma=10, kernel=rbf ....................................\n",
      "[CV] ........ C=0.01, gamma=10, kernel=rbf, score=0.614, total=   0.0s\n",
      "[CV] C=0.01, gamma=10, kernel=rbf ....................................\n",
      "[CV] ........ C=0.01, gamma=10, kernel=rbf, score=0.614, total=   0.0s\n",
      "[CV] C=0.01, gamma=10, kernel=rbf ....................................\n",
      "[CV] ........ C=0.01, gamma=10, kernel=rbf, score=0.614, total=   0.0s\n",
      "[CV] C=0.01, gamma=10, kernel=rbf ....................................\n",
      "[CV] ........ C=0.01, gamma=10, kernel=rbf, score=0.614, total=   0.0s\n",
      "[CV] C=0.01, gamma=10, kernel=rbf ....................................\n",
      "[CV] ........ C=0.01, gamma=10, kernel=rbf, score=0.614, total=   0.0s\n",
      "[CV] C=0.01, gamma=100, kernel=rbf ...................................\n",
      "[CV] ....... C=0.01, gamma=100, kernel=rbf, score=0.618, total=   0.0s\n",
      "[CV] C=0.01, gamma=100, kernel=rbf ...................................\n",
      "[CV] ....... C=0.01, gamma=100, kernel=rbf, score=0.614, total=   0.0s\n",
      "[CV] C=0.01, gamma=100, kernel=rbf ...................................\n",
      "[CV] ....... C=0.01, gamma=100, kernel=rbf, score=0.614, total=   0.0s\n",
      "[CV] C=0.01, gamma=100, kernel=rbf ...................................\n",
      "[CV] ....... C=0.01, gamma=100, kernel=rbf, score=0.614, total=   0.0s\n",
      "[CV] C=0.01, gamma=100, kernel=rbf ...................................\n",
      "[CV] ....... C=0.01, gamma=100, kernel=rbf, score=0.614, total=   0.0s\n",
      "[CV] C=0.01, gamma=100, kernel=rbf ...................................\n",
      "[CV] ....... C=0.01, gamma=100, kernel=rbf, score=0.614, total=   0.0s\n",
      "[CV] C=0.01, gamma=100, kernel=rbf ...................................\n",
      "[CV] ....... C=0.01, gamma=100, kernel=rbf, score=0.614, total=   0.0s\n",
      "[CV] C=0.01, gamma=100, kernel=rbf ...................................\n",
      "[CV] ....... C=0.01, gamma=100, kernel=rbf, score=0.614, total=   0.0s\n",
      "[CV] C=0.01, gamma=100, kernel=rbf ...................................\n",
      "[CV] ....... C=0.01, gamma=100, kernel=rbf, score=0.614, total=   0.0s\n",
      "[CV] C=0.01, gamma=100, kernel=rbf ...................................\n",
      "[CV] ....... C=0.01, gamma=100, kernel=rbf, score=0.614, total=   0.0s\n",
      "[CV] C=0.01, gamma=1000, kernel=rbf ..................................\n",
      "[CV] ...... C=0.01, gamma=1000, kernel=rbf, score=0.618, total=   0.0s\n",
      "[CV] C=0.01, gamma=1000, kernel=rbf ..................................\n",
      "[CV] ...... C=0.01, gamma=1000, kernel=rbf, score=0.614, total=   0.0s\n",
      "[CV] C=0.01, gamma=1000, kernel=rbf ..................................\n",
      "[CV] ...... C=0.01, gamma=1000, kernel=rbf, score=0.614, total=   0.0s\n",
      "[CV] C=0.01, gamma=1000, kernel=rbf ..................................\n",
      "[CV] ...... C=0.01, gamma=1000, kernel=rbf, score=0.614, total=   0.0s\n",
      "[CV] C=0.01, gamma=1000, kernel=rbf ..................................\n"
     ]
    },
    {
     "name": "stdout",
     "output_type": "stream",
     "text": [
      "[CV] ...... C=0.01, gamma=1000, kernel=rbf, score=0.614, total=   0.0s\n",
      "[CV] C=0.01, gamma=1000, kernel=rbf ..................................\n",
      "[CV] ...... C=0.01, gamma=1000, kernel=rbf, score=0.614, total=   0.0s\n",
      "[CV] C=0.01, gamma=1000, kernel=rbf ..................................\n",
      "[CV] ...... C=0.01, gamma=1000, kernel=rbf, score=0.614, total=   0.0s\n",
      "[CV] C=0.01, gamma=1000, kernel=rbf ..................................\n",
      "[CV] ...... C=0.01, gamma=1000, kernel=rbf, score=0.614, total=   0.0s\n",
      "[CV] C=0.01, gamma=1000, kernel=rbf ..................................\n",
      "[CV] ...... C=0.01, gamma=1000, kernel=rbf, score=0.614, total=   0.0s\n",
      "[CV] C=0.01, gamma=1000, kernel=rbf ..................................\n",
      "[CV] ...... C=0.01, gamma=1000, kernel=rbf, score=0.614, total=   0.0s\n",
      "[CV] C=0.1, gamma=1, kernel=rbf ......................................\n",
      "[CV] .......... C=0.1, gamma=1, kernel=rbf, score=0.618, total=   0.0s\n",
      "[CV] C=0.1, gamma=1, kernel=rbf ......................................\n",
      "[CV] .......... C=0.1, gamma=1, kernel=rbf, score=0.614, total=   0.0s\n",
      "[CV] C=0.1, gamma=1, kernel=rbf ......................................\n",
      "[CV] .......... C=0.1, gamma=1, kernel=rbf, score=0.614, total=   0.0s\n",
      "[CV] C=0.1, gamma=1, kernel=rbf ......................................\n",
      "[CV] .......... C=0.1, gamma=1, kernel=rbf, score=0.614, total=   0.0s\n",
      "[CV] C=0.1, gamma=1, kernel=rbf ......................................\n",
      "[CV] .......... C=0.1, gamma=1, kernel=rbf, score=0.614, total=   0.0s\n",
      "[CV] C=0.1, gamma=1, kernel=rbf ......................................\n",
      "[CV] .......... C=0.1, gamma=1, kernel=rbf, score=0.614, total=   0.0s\n",
      "[CV] C=0.1, gamma=1, kernel=rbf ......................................\n",
      "[CV] .......... C=0.1, gamma=1, kernel=rbf, score=0.614, total=   0.0s\n",
      "[CV] C=0.1, gamma=1, kernel=rbf ......................................\n",
      "[CV] .......... C=0.1, gamma=1, kernel=rbf, score=0.614, total=   0.0s\n",
      "[CV] C=0.1, gamma=1, kernel=rbf ......................................\n",
      "[CV] .......... C=0.1, gamma=1, kernel=rbf, score=0.614, total=   0.0s\n",
      "[CV] C=0.1, gamma=1, kernel=rbf ......................................\n",
      "[CV] .......... C=0.1, gamma=1, kernel=rbf, score=0.614, total=   0.0s\n",
      "[CV] C=0.1, gamma=10, kernel=rbf .....................................\n",
      "[CV] ......... C=0.1, gamma=10, kernel=rbf, score=0.618, total=   0.0s\n",
      "[CV] C=0.1, gamma=10, kernel=rbf .....................................\n",
      "[CV] ......... C=0.1, gamma=10, kernel=rbf, score=0.614, total=   0.0s\n",
      "[CV] C=0.1, gamma=10, kernel=rbf .....................................\n",
      "[CV] ......... C=0.1, gamma=10, kernel=rbf, score=0.614, total=   0.0s\n",
      "[CV] C=0.1, gamma=10, kernel=rbf .....................................\n",
      "[CV] ......... C=0.1, gamma=10, kernel=rbf, score=0.614, total=   0.0s\n",
      "[CV] C=0.1, gamma=10, kernel=rbf .....................................\n",
      "[CV] ......... C=0.1, gamma=10, kernel=rbf, score=0.614, total=   0.0s\n",
      "[CV] C=0.1, gamma=10, kernel=rbf .....................................\n",
      "[CV] ......... C=0.1, gamma=10, kernel=rbf, score=0.614, total=   0.0s\n",
      "[CV] C=0.1, gamma=10, kernel=rbf .....................................\n",
      "[CV] ......... C=0.1, gamma=10, kernel=rbf, score=0.614, total=   0.0s\n",
      "[CV] C=0.1, gamma=10, kernel=rbf .....................................\n",
      "[CV] ......... C=0.1, gamma=10, kernel=rbf, score=0.614, total=   0.0s\n",
      "[CV] C=0.1, gamma=10, kernel=rbf .....................................\n",
      "[CV] ......... C=0.1, gamma=10, kernel=rbf, score=0.614, total=   0.0s\n",
      "[CV] C=0.1, gamma=10, kernel=rbf .....................................\n",
      "[CV] ......... C=0.1, gamma=10, kernel=rbf, score=0.614, total=   0.0s\n",
      "[CV] C=0.1, gamma=100, kernel=rbf ....................................\n",
      "[CV] ........ C=0.1, gamma=100, kernel=rbf, score=0.618, total=   0.0s\n",
      "[CV] C=0.1, gamma=100, kernel=rbf ....................................\n",
      "[CV] ........ C=0.1, gamma=100, kernel=rbf, score=0.614, total=   0.0s\n",
      "[CV] C=0.1, gamma=100, kernel=rbf ....................................\n",
      "[CV] ........ C=0.1, gamma=100, kernel=rbf, score=0.614, total=   0.0s\n",
      "[CV] C=0.1, gamma=100, kernel=rbf ....................................\n",
      "[CV] ........ C=0.1, gamma=100, kernel=rbf, score=0.614, total=   0.0s\n",
      "[CV] C=0.1, gamma=100, kernel=rbf ....................................\n",
      "[CV] ........ C=0.1, gamma=100, kernel=rbf, score=0.614, total=   0.0s\n",
      "[CV] C=0.1, gamma=100, kernel=rbf ....................................\n",
      "[CV] ........ C=0.1, gamma=100, kernel=rbf, score=0.614, total=   0.0s\n",
      "[CV] C=0.1, gamma=100, kernel=rbf ....................................\n",
      "[CV] ........ C=0.1, gamma=100, kernel=rbf, score=0.614, total=   0.0s\n",
      "[CV] C=0.1, gamma=100, kernel=rbf ....................................\n",
      "[CV] ........ C=0.1, gamma=100, kernel=rbf, score=0.614, total=   0.0s\n",
      "[CV] C=0.1, gamma=100, kernel=rbf ....................................\n",
      "[CV] ........ C=0.1, gamma=100, kernel=rbf, score=0.614, total=   0.0s\n",
      "[CV] C=0.1, gamma=100, kernel=rbf ....................................\n",
      "[CV] ........ C=0.1, gamma=100, kernel=rbf, score=0.614, total=   0.0s\n",
      "[CV] C=0.1, gamma=1000, kernel=rbf ...................................\n",
      "[CV] ....... C=0.1, gamma=1000, kernel=rbf, score=0.618, total=   0.0s\n",
      "[CV] C=0.1, gamma=1000, kernel=rbf ...................................\n",
      "[CV] ....... C=0.1, gamma=1000, kernel=rbf, score=0.614, total=   0.0s\n",
      "[CV] C=0.1, gamma=1000, kernel=rbf ...................................\n",
      "[CV] ....... C=0.1, gamma=1000, kernel=rbf, score=0.614, total=   0.0s\n",
      "[CV] C=0.1, gamma=1000, kernel=rbf ...................................\n",
      "[CV] ....... C=0.1, gamma=1000, kernel=rbf, score=0.614, total=   0.0s\n",
      "[CV] C=0.1, gamma=1000, kernel=rbf ...................................\n",
      "[CV] ....... C=0.1, gamma=1000, kernel=rbf, score=0.614, total=   0.0s\n",
      "[CV] C=0.1, gamma=1000, kernel=rbf ...................................\n",
      "[CV] ....... C=0.1, gamma=1000, kernel=rbf, score=0.614, total=   0.0s\n",
      "[CV] C=0.1, gamma=1000, kernel=rbf ...................................\n",
      "[CV] ....... C=0.1, gamma=1000, kernel=rbf, score=0.614, total=   0.0s\n",
      "[CV] C=0.1, gamma=1000, kernel=rbf ...................................\n",
      "[CV] ....... C=0.1, gamma=1000, kernel=rbf, score=0.614, total=   0.0s\n",
      "[CV] C=0.1, gamma=1000, kernel=rbf ...................................\n",
      "[CV] ....... C=0.1, gamma=1000, kernel=rbf, score=0.614, total=   0.0s\n",
      "[CV] C=0.1, gamma=1000, kernel=rbf ...................................\n",
      "[CV] ....... C=0.1, gamma=1000, kernel=rbf, score=0.614, total=   0.0s\n",
      "[CV] C=1, gamma=1, kernel=rbf ........................................\n",
      "[CV] ............ C=1, gamma=1, kernel=rbf, score=0.618, total=   0.0s\n",
      "[CV] C=1, gamma=1, kernel=rbf ........................................\n",
      "[CV] ............ C=1, gamma=1, kernel=rbf, score=0.614, total=   0.0s\n",
      "[CV] C=1, gamma=1, kernel=rbf ........................................\n",
      "[CV] ............ C=1, gamma=1, kernel=rbf, score=0.614, total=   0.0s\n",
      "[CV] C=1, gamma=1, kernel=rbf ........................................\n",
      "[CV] ............ C=1, gamma=1, kernel=rbf, score=0.614, total=   0.0s\n",
      "[CV] C=1, gamma=1, kernel=rbf ........................................\n",
      "[CV] ............ C=1, gamma=1, kernel=rbf, score=0.614, total=   0.0s\n",
      "[CV] C=1, gamma=1, kernel=rbf ........................................\n",
      "[CV] ............ C=1, gamma=1, kernel=rbf, score=0.614, total=   0.0s\n",
      "[CV] C=1, gamma=1, kernel=rbf ........................................\n",
      "[CV] ............ C=1, gamma=1, kernel=rbf, score=0.614, total=   0.0s\n",
      "[CV] C=1, gamma=1, kernel=rbf ........................................\n",
      "[CV] ............ C=1, gamma=1, kernel=rbf, score=0.614, total=   0.0s\n",
      "[CV] C=1, gamma=1, kernel=rbf ........................................\n",
      "[CV] ............ C=1, gamma=1, kernel=rbf, score=0.614, total=   0.0s\n",
      "[CV] C=1, gamma=1, kernel=rbf ........................................\n",
      "[CV] ............ C=1, gamma=1, kernel=rbf, score=0.614, total=   0.0s\n",
      "[CV] C=1, gamma=10, kernel=rbf .......................................\n",
      "[CV] ........... C=1, gamma=10, kernel=rbf, score=0.618, total=   0.0s\n",
      "[CV] C=1, gamma=10, kernel=rbf .......................................\n",
      "[CV] ........... C=1, gamma=10, kernel=rbf, score=0.614, total=   0.0s\n",
      "[CV] C=1, gamma=10, kernel=rbf .......................................\n",
      "[CV] ........... C=1, gamma=10, kernel=rbf, score=0.614, total=   0.0s\n",
      "[CV] C=1, gamma=10, kernel=rbf .......................................\n",
      "[CV] ........... C=1, gamma=10, kernel=rbf, score=0.614, total=   0.0s\n",
      "[CV] C=1, gamma=10, kernel=rbf .......................................\n",
      "[CV] ........... C=1, gamma=10, kernel=rbf, score=0.614, total=   0.0s\n",
      "[CV] C=1, gamma=10, kernel=rbf .......................................\n",
      "[CV] ........... C=1, gamma=10, kernel=rbf, score=0.614, total=   0.0s\n",
      "[CV] C=1, gamma=10, kernel=rbf .......................................\n",
      "[CV] ........... C=1, gamma=10, kernel=rbf, score=0.614, total=   0.0s\n",
      "[CV] C=1, gamma=10, kernel=rbf .......................................\n"
     ]
    },
    {
     "name": "stdout",
     "output_type": "stream",
     "text": [
      "[CV] ........... C=1, gamma=10, kernel=rbf, score=0.614, total=   0.0s\n",
      "[CV] C=1, gamma=10, kernel=rbf .......................................\n",
      "[CV] ........... C=1, gamma=10, kernel=rbf, score=0.614, total=   0.0s\n",
      "[CV] C=1, gamma=10, kernel=rbf .......................................\n",
      "[CV] ........... C=1, gamma=10, kernel=rbf, score=0.614, total=   0.0s\n",
      "[CV] C=1, gamma=100, kernel=rbf ......................................\n",
      "[CV] .......... C=1, gamma=100, kernel=rbf, score=0.618, total=   0.0s\n",
      "[CV] C=1, gamma=100, kernel=rbf ......................................\n",
      "[CV] .......... C=1, gamma=100, kernel=rbf, score=0.614, total=   0.0s\n",
      "[CV] C=1, gamma=100, kernel=rbf ......................................\n",
      "[CV] .......... C=1, gamma=100, kernel=rbf, score=0.614, total=   0.0s\n",
      "[CV] C=1, gamma=100, kernel=rbf ......................................\n",
      "[CV] .......... C=1, gamma=100, kernel=rbf, score=0.614, total=   0.0s\n",
      "[CV] C=1, gamma=100, kernel=rbf ......................................\n",
      "[CV] .......... C=1, gamma=100, kernel=rbf, score=0.614, total=   0.0s\n",
      "[CV] C=1, gamma=100, kernel=rbf ......................................\n",
      "[CV] .......... C=1, gamma=100, kernel=rbf, score=0.614, total=   0.0s\n",
      "[CV] C=1, gamma=100, kernel=rbf ......................................\n",
      "[CV] .......... C=1, gamma=100, kernel=rbf, score=0.614, total=   0.0s\n",
      "[CV] C=1, gamma=100, kernel=rbf ......................................\n",
      "[CV] .......... C=1, gamma=100, kernel=rbf, score=0.614, total=   0.0s\n",
      "[CV] C=1, gamma=100, kernel=rbf ......................................\n",
      "[CV] .......... C=1, gamma=100, kernel=rbf, score=0.614, total=   0.0s\n",
      "[CV] C=1, gamma=100, kernel=rbf ......................................\n",
      "[CV] .......... C=1, gamma=100, kernel=rbf, score=0.614, total=   0.0s\n",
      "[CV] C=1, gamma=1000, kernel=rbf .....................................\n",
      "[CV] ......... C=1, gamma=1000, kernel=rbf, score=0.618, total=   0.0s\n",
      "[CV] C=1, gamma=1000, kernel=rbf .....................................\n",
      "[CV] ......... C=1, gamma=1000, kernel=rbf, score=0.614, total=   0.0s\n",
      "[CV] C=1, gamma=1000, kernel=rbf .....................................\n",
      "[CV] ......... C=1, gamma=1000, kernel=rbf, score=0.614, total=   0.0s\n",
      "[CV] C=1, gamma=1000, kernel=rbf .....................................\n",
      "[CV] ......... C=1, gamma=1000, kernel=rbf, score=0.614, total=   0.0s\n",
      "[CV] C=1, gamma=1000, kernel=rbf .....................................\n",
      "[CV] ......... C=1, gamma=1000, kernel=rbf, score=0.614, total=   0.0s\n",
      "[CV] C=1, gamma=1000, kernel=rbf .....................................\n",
      "[CV] ......... C=1, gamma=1000, kernel=rbf, score=0.614, total=   0.0s\n",
      "[CV] C=1, gamma=1000, kernel=rbf .....................................\n",
      "[CV] ......... C=1, gamma=1000, kernel=rbf, score=0.614, total=   0.0s\n",
      "[CV] C=1, gamma=1000, kernel=rbf .....................................\n",
      "[CV] ......... C=1, gamma=1000, kernel=rbf, score=0.614, total=   0.0s\n",
      "[CV] C=1, gamma=1000, kernel=rbf .....................................\n",
      "[CV] ......... C=1, gamma=1000, kernel=rbf, score=0.614, total=   0.0s\n",
      "[CV] C=1, gamma=1000, kernel=rbf .....................................\n",
      "[CV] ......... C=1, gamma=1000, kernel=rbf, score=0.614, total=   0.0s\n"
     ]
    },
    {
     "name": "stderr",
     "output_type": "stream",
     "text": [
      "[Parallel(n_jobs=1)]: Done 160 out of 160 | elapsed:    4.3s finished\n"
     ]
    },
    {
     "data": {
      "text/plain": [
       "GridSearchCV(cv=StratifiedKFold(n_splits=10, random_state=None, shuffle=False),\n",
       "             estimator=SVC(), n_jobs=1,\n",
       "             param_grid={'C': [0.001, 0.01, 0.1, 1],\n",
       "                         'gamma': [1, 10, 100, 1000], 'kernel': ['rbf']},\n",
       "             scoring='accuracy', verbose=10)"
      ]
     },
     "execution_count": 93,
     "metadata": {},
     "output_type": "execute_result"
    }
   ],
   "source": [
    "svc = SVC()\n",
    "\n",
    "param_grid = {'kernel':['rbf'],\n",
    "              'gamma':[1,10,100,1000],\n",
    "              'C':[0.001,0.01,0.1,1]}\n",
    "\n",
    "gsSVC = GridSearchCV(svc,param_grid=param_grid,cv=kfold,scoring='accuracy',n_jobs=1,verbose=10)\n",
    "\n",
    "gsSVC.fit(X_train,y_train)"
   ]
  },
  {
   "cell_type": "markdown",
   "metadata": {},
   "source": [
    "### Creating an ensemble"
   ]
  },
  {
   "cell_type": "code",
   "execution_count": 94,
   "metadata": {},
   "outputs": [
    {
     "data": {
      "text/plain": [
       "VotingClassifier(estimators=[('svc', SVC(C=0.001, gamma=1)),\n",
       "                             ('ada',\n",
       "                              AdaBoostClassifier(base_estimator=DecisionTreeClassifier(),\n",
       "                                                 learning_rate=0.001,\n",
       "                                                 n_estimators=1,\n",
       "                                                 random_state=42))])"
      ]
     },
     "execution_count": 94,
     "metadata": {},
     "output_type": "execute_result"
    }
   ],
   "source": [
    "adabest = gsAdaDTC.best_estimator_\n",
    "svcbest = gsSVC.best_estimator_\n",
    "\n",
    "votingClx = VotingClassifier(estimators=[('svc',svcbest),('ada',adabest)])\n",
    "\n",
    "votingClx.fit(X_train,y_train)"
   ]
  },
  {
   "cell_type": "markdown",
   "metadata": {},
   "source": [
    "#### Prediction"
   ]
  },
  {
   "cell_type": "code",
   "execution_count": 95,
   "metadata": {},
   "outputs": [
    {
     "data": {
      "text/plain": [
       "0      0\n",
       "1      0\n",
       "2      0\n",
       "3      0\n",
       "4      0\n",
       "      ..\n",
       "413    0\n",
       "414    0\n",
       "415    0\n",
       "416    0\n",
       "417    0\n",
       "Name: Survived, Length: 418, dtype: int64"
      ]
     },
     "execution_count": 95,
     "metadata": {},
     "output_type": "execute_result"
    }
   ],
   "source": [
    "test_survived = pd.Series(votingClx.predict(test),name='Survived')\n",
    "test_survived"
   ]
  },
  {
   "cell_type": "code",
   "execution_count": 96,
   "metadata": {},
   "outputs": [],
   "source": [
    "results = pd.concat([idtest,test_survived],axis=1)"
   ]
  },
  {
   "cell_type": "code",
   "execution_count": 98,
   "metadata": {},
   "outputs": [],
   "source": [
    "results.to_csv('ensemble_raw_submission.csv',index=False)"
   ]
  },
  {
   "cell_type": "code",
   "execution_count": 99,
   "metadata": {},
   "outputs": [
    {
     "name": "stdout",
     "output_type": "stream",
     "text": [
      "ensemble_raw_submission.csv\r\n"
     ]
    }
   ],
   "source": [
    "ls ensemble_raw_submission.csv"
   ]
  },
  {
   "cell_type": "code",
   "execution_count": null,
   "metadata": {},
   "outputs": [],
   "source": []
  },
  {
   "cell_type": "code",
   "execution_count": null,
   "metadata": {},
   "outputs": [],
   "source": []
  },
  {
   "cell_type": "code",
   "execution_count": null,
   "metadata": {},
   "outputs": [],
   "source": []
  },
  {
   "cell_type": "code",
   "execution_count": null,
   "metadata": {},
   "outputs": [],
   "source": []
  }
 ],
 "metadata": {
  "kernelspec": {
   "display_name": "Python 3",
   "language": "python",
   "name": "python3"
  },
  "language_info": {
   "codemirror_mode": {
    "name": "ipython",
    "version": 3
   },
   "file_extension": ".py",
   "mimetype": "text/x-python",
   "name": "python",
   "nbconvert_exporter": "python",
   "pygments_lexer": "ipython3",
   "version": "3.8.3"
  }
 },
 "nbformat": 4,
 "nbformat_minor": 4
}
